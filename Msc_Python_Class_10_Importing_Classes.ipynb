{
 "cells": [
  {
   "cell_type": "code",
   "execution_count": 9,
   "metadata": {},
   "outputs": [
    {
     "name": "stdout",
     "output_type": "stream",
     "text": [
      "Audi Red 1959\n"
     ]
    }
   ],
   "source": [
    "from Msc_Python_Class_10_Car import Car\n",
    "\n",
    "my_new_car = Car('Audi','red',1959)\n",
    "\n",
    "print(my_new_car.get_descriptive_name())"
   ]
  },
  {
   "cell_type": "code",
   "execution_count": 11,
   "metadata": {},
   "outputs": [
    {
     "name": "stdout",
     "output_type": "stream",
     "text": [
      "Ctype Tulsa 2002 Everraddi\n",
      "Battery size is 75, and name is EverRaddi\n",
      "None\n"
     ]
    }
   ],
   "source": [
    "\n",
    "from Msc_Python_Class_10_Car import Electric_car\n",
    "my_new_electric_car = Electric_car('Ctype','Tulsa','EverRaddi',2002)\n",
    "\n",
    "print(my_new_electric_car.get_descriptive_name())\n",
    "print(my_new_electric_car.describe_battery())"
   ]
  },
  {
   "cell_type": "code",
   "execution_count": 1,
   "metadata": {},
   "outputs": [
    {
     "ename": "ImportError",
     "evalue": "cannot import name 'Electric_car' from 'Msc_Python_Class_10_Car' (c:\\Users\\Spandan\\Desktop\\Python Basics\\Msc_Python_Class_10_Car.py)",
     "output_type": "error",
     "traceback": [
      "\u001b[1;31m---------------------------------------------------------------------------\u001b[0m",
      "\u001b[1;31mImportError\u001b[0m                               Traceback (most recent call last)",
      "Cell \u001b[1;32mIn[1], line 1\u001b[0m\n\u001b[1;32m----> 1\u001b[0m \u001b[38;5;28;01mfrom\u001b[39;00m \u001b[38;5;21;01mMsc_Python_Class_10_Car\u001b[39;00m \u001b[38;5;28;01mimport\u001b[39;00m Car,Electric_car\n\u001b[0;32m      3\u001b[0m my_beetle \u001b[38;5;241m=\u001b[39m Car(\u001b[38;5;124m'\u001b[39m\u001b[38;5;124mChapri\u001b[39m\u001b[38;5;124m'\u001b[39m,\u001b[38;5;124m'\u001b[39m\u001b[38;5;124mChinese\u001b[39m\u001b[38;5;124m'\u001b[39m,\u001b[38;5;241m2002\u001b[39m)\n\u001b[0;32m      5\u001b[0m my_telsa \u001b[38;5;241m=\u001b[39m Electric_car(\u001b[38;5;124m'\u001b[39m\u001b[38;5;124mE-Chapri\u001b[39m\u001b[38;5;124m'\u001b[39m,\u001b[38;5;124m'\u001b[39m\u001b[38;5;124mgermany\u001b[39m\u001b[38;5;124m'\u001b[39m,\u001b[38;5;124m'\u001b[39m\u001b[38;5;124mevverraddi\u001b[39m\u001b[38;5;124m'\u001b[39m,\u001b[38;5;241m2001\u001b[39m)\n",
      "\u001b[1;31mImportError\u001b[0m: cannot import name 'Electric_car' from 'Msc_Python_Class_10_Car' (c:\\Users\\Spandan\\Desktop\\Python Basics\\Msc_Python_Class_10_Car.py)"
     ]
    }
   ],
   "source": [
    "from Msc_Python_Class_10_Car import Car,Electric_car\n",
    "\n",
    "my_beetle = Car('Chapri','Chinese',2002)\n",
    "\n",
    "my_telsa = Electric_car('E-Chapri','germany','evverraddi',2001)"
   ]
  },
  {
   "cell_type": "code",
   "execution_count": 4,
   "metadata": {},
   "outputs": [
    {
     "data": {
      "text/plain": [
       "'E-Chapri Germany 2001 Evverraddi'"
      ]
     },
     "execution_count": 4,
     "metadata": {},
     "output_type": "execute_result"
    }
   ],
   "source": [
    "from Msc_Python_Class_10_Car import Car\n",
    "from Msc_Python_Class_10_Electric_car import Electric_car\n",
    "\n",
    "\n",
    "my_beetle = Car('Chapri','Chinese',2002)\n",
    "\n",
    "my_telsa = Electric_car('E-Chapri','germany','evverraddi',2001)\n",
    "\n",
    "my_telsa.get_descriptive_name()"
   ]
  }
 ],
 "metadata": {
  "kernelspec": {
   "display_name": "Python 3",
   "language": "python",
   "name": "python3"
  },
  "language_info": {
   "codemirror_mode": {
    "name": "ipython",
    "version": 3
   },
   "file_extension": ".py",
   "mimetype": "text/x-python",
   "name": "python",
   "nbconvert_exporter": "python",
   "pygments_lexer": "ipython3",
   "version": "3.11.3"
  }
 },
 "nbformat": 4,
 "nbformat_minor": 2
}
