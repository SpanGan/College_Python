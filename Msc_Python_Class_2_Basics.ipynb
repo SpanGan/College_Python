{
 "cells": [
  {
   "cell_type": "markdown",
   "metadata": {},
   "source": [
    "Anthing inside quotes are considered strings\"\". THe simplest task possible is to changes case  "
   ]
  },
  {
   "cell_type": "markdown",
   "metadata": {},
   "source": [
    "StringVariable.title() will capitalise the first letter of all distinct words the string \n",
    "StringVariable.upper() and StringVariable.lower() will upper and lower case all strings respectively"
   ]
  },
  {
   "cell_type": "code",
   "execution_count": 7,
   "metadata": {},
   "outputs": [
    {
     "name": "stdout",
     "output_type": "stream",
     "text": [
      "Spandan\n",
      "SPANDAN\n",
      "spandan\n"
     ]
    }
   ],
   "source": [
    "name = \"spandan\"\n",
    "print(name.title())\n",
    "print(name.upper())\n",
    "print(name.lower()) "
   ]
  },
  {
   "cell_type": "markdown",
   "metadata": {},
   "source": [
    "The latest value of the variable will be  taken when running any code."
   ]
  },
  {
   "cell_type": "code",
   "execution_count": 9,
   "metadata": {},
   "outputs": [
    {
     "name": "stdout",
     "output_type": "stream",
     "text": [
      "40\n",
      "The sum of 22 and 18 is 40\n"
     ]
    }
   ],
   "source": [
    "a = 20\n",
    "a = 22\n",
    "\n",
    "b = 18\n",
    "\n",
    "print(a+b)\n",
    "\n",
    "print(f\"The sum of {a} and {b} is {a+b}\")"
   ]
  },
  {
   "cell_type": "markdown",
   "metadata": {},
   "source": [
    "\\t gives a white space in front of string.\\n moves it to a new line."
   ]
  },
  {
   "cell_type": "code",
   "execution_count": 14,
   "metadata": {},
   "outputs": [
    {
     "name": "stdout",
     "output_type": "stream",
     "text": [
      "python\n",
      "\tpython\n",
      "language:\n",
      "Python\n",
      "C\n",
      "C++ \n"
     ]
    }
   ],
   "source": [
    "print(\"python\")\n",
    "print(\"\\tpython\")\n",
    "\n",
    "print(\"language:\\nPython\\nC\\nC++ \")"
   ]
  },
  {
   "cell_type": "markdown",
   "metadata": {},
   "source": [
    "Stripping white space. Python will not remove whitespace unless you tell it to. This will cause problems in comparison. \n",
    "\n",
    "Python can look on the left and right sides of the string to check for whites space. Using rstrip() or lstrip() will remove one white space from the right or left respectively. The change is temporary. "
   ]
  },
  {
   "cell_type": "code",
   "execution_count": 40,
   "metadata": {},
   "outputs": [
    {
     "data": {
      "text/plain": [
       "'python'"
      ]
     },
     "execution_count": 40,
     "metadata": {},
     "output_type": "execute_result"
    }
   ],
   "source": [
    "favourite_language = 'python    '\n",
    "#the right white space is stripped\n",
    "favourite_language.rstrip()\n"
   ]
  },
  {
   "cell_type": "code",
   "execution_count": 37,
   "metadata": {},
   "outputs": [
    {
     "name": "stdout",
     "output_type": "stream",
     "text": [
      "python    \n"
     ]
    },
    {
     "data": {
      "text/plain": [
       "'python    '"
      ]
     },
     "execution_count": 37,
     "metadata": {},
     "output_type": "execute_result"
    }
   ],
   "source": [
    "favourite_language = 'python    '\n",
    "print(favourite_language)\n",
    "\n",
    "favourite_language.rstrip()\n",
    "#However, this is not permanent. The stripped value is not stored in the variable.\n",
    "favourite_language"
   ]
  },
  {
   "cell_type": "code",
   "execution_count": 41,
   "metadata": {},
   "outputs": [
    {
     "name": "stdout",
     "output_type": "stream",
     "text": [
      "python    \n"
     ]
    },
    {
     "data": {
      "text/plain": [
       "'python'"
      ]
     },
     "execution_count": 41,
     "metadata": {},
     "output_type": "execute_result"
    }
   ],
   "source": [
    "favourite_language = 'python    '\n",
    "print(favourite_language)\n",
    "\n",
    "favourite_language = favourite_language.rstrip()\n",
    "#However, this is not permanent. The stripped value is not stored in the variable.\n",
    "favourite_language"
   ]
  },
  {
   "cell_type": "code",
   "execution_count": 47,
   "metadata": {},
   "outputs": [
    {
     "data": {
      "text/plain": [
       "'  python'"
      ]
     },
     "execution_count": 47,
     "metadata": {},
     "output_type": "execute_result"
    }
   ],
   "source": [
    "favourite_language = '  python  '\n",
    "favourite_language.rstrip()\n"
   ]
  },
  {
   "cell_type": "code",
   "execution_count": 45,
   "metadata": {},
   "outputs": [
    {
     "data": {
      "text/plain": [
       "'python  '"
      ]
     },
     "execution_count": 45,
     "metadata": {},
     "output_type": "execute_result"
    }
   ],
   "source": [
    "favourite_language = '  python  '\n",
    "favourite_language.lstrip()\n"
   ]
  },
  {
   "cell_type": "markdown",
   "metadata": {},
   "source": []
  },
  {
   "cell_type": "code",
   "execution_count": 44,
   "metadata": {},
   "outputs": [
    {
     "data": {
      "text/plain": [
       "'python'"
      ]
     },
     "execution_count": 44,
     "metadata": {},
     "output_type": "execute_result"
    }
   ],
   "source": [
    "favourite_language = '  python  '\n",
    "favourite_language.strip()"
   ]
  },
  {
   "cell_type": "markdown",
   "metadata": {},
   "source": [
    "Underscores in Numbers. Large numbers can be grouped with underscore to make them more readable. They function like commas"
   ]
  },
  {
   "cell_type": "code",
   "execution_count": 50,
   "metadata": {},
   "outputs": [
    {
     "name": "stdout",
     "output_type": "stream",
     "text": [
      "14000000000\n"
     ]
    }
   ],
   "source": [
    "universe_age = 14_000_000_000\n",
    "print(universe_age)"
   ]
  },
  {
   "cell_type": "markdown",
   "metadata": {},
   "source": [
    "Multiple Assignments\n"
   ]
  },
  {
   "cell_type": "code",
   "execution_count": 59,
   "metadata": {},
   "outputs": [
    {
     "name": "stdout",
     "output_type": "stream",
     "text": [
      "3j 0.34242 nfflmfkdmv\n"
     ]
    }
   ],
   "source": [
    "x,y,z = 0+3j,0.34242,\"nfflmfkdmv\"\n",
    "print(x,y,z)\n"
   ]
  },
  {
   "cell_type": "markdown",
   "metadata": {},
   "source": [
    "Constant: A variable that should remain same. In python, no such system exist, so instead, write constants in Upper case and then be caref\n"
   ]
  },
  {
   "cell_type": "code",
   "execution_count": 60,
   "metadata": {},
   "outputs": [],
   "source": [
    "MAX_TEMP = 199"
   ]
  }
 ],
 "metadata": {
  "kernelspec": {
   "display_name": "Python 3",
   "language": "python",
   "name": "python3"
  },
  "language_info": {
   "codemirror_mode": {
    "name": "ipython",
    "version": 3
   },
   "file_extension": ".py",
   "mimetype": "text/x-python",
   "name": "python",
   "nbconvert_exporter": "python",
   "pygments_lexer": "ipython3",
   "version": "3.11.3"
  }
 },
 "nbformat": 4,
 "nbformat_minor": 2
}
