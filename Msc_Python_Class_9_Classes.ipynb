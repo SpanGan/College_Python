{
 "cells": [
  {
   "cell_type": "markdown",
   "metadata": {},
   "source": [
    "init has two _ _ _ _"
   ]
  },
  {
   "cell_type": "code",
   "execution_count": 32,
   "metadata": {},
   "outputs": [
    {
     "name": "stdout",
     "output_type": "stream",
     "text": [
      "wille\n",
      "wille has rolled over\n"
     ]
    }
   ],
   "source": [
    "class Dog:\n",
    "    def __init__ (self,name,age):\n",
    "        self.name = name\n",
    "        self.age = age\n",
    "    def sit(self):\n",
    "        print(f'{self.name} is now sitting.')\n",
    "    def roll_over(self):\n",
    "        print(f'{self.name} has rolled over')\n",
    "\n",
    "\n",
    "my_dog = Dog('wille',5)\n",
    "print(my_dog.name) \n",
    "\n",
    "my_dog.roll_over()\n",
    "  \n",
    "\n",
    "    "
   ]
  },
  {
   "cell_type": "code",
   "execution_count": 33,
   "metadata": {},
   "outputs": [
    {
     "data": {
      "text/plain": [
       "12"
      ]
     },
     "execution_count": 33,
     "metadata": {},
     "output_type": "execute_result"
    }
   ],
   "source": [
    "class My_class:\n",
    "    my_class = 12\n",
    "p =My_class()\n",
    "p.my_class"
   ]
  },
  {
   "cell_type": "code",
   "execution_count": 48,
   "metadata": {},
   "outputs": [
    {
     "name": "stdout",
     "output_type": "stream",
     "text": [
      "spandan\n",
      "420 has rolled over\n"
     ]
    }
   ],
   "source": [
    "class Person:\n",
    "    def __init__(self,name,age):\n",
    "        self.name = name\n",
    "        self.age = age\n",
    "\n",
    "\n",
    "person1 = Person('spandan',32)\n",
    "\n",
    "print(person1.name)\n",
    "\n"
   ]
  },
  {
   "cell_type": "code",
   "execution_count": 52,
   "metadata": {},
   "outputs": [
    {
     "name": "stdout",
     "output_type": "stream",
     "text": [
      "420 has rolled over\n",
      "420\n",
      "22\n",
      "420 is now sitting.\n",
      "420 has rolled over\n",
      "420\n",
      "22\n",
      "420 is now sitting.\n"
     ]
    }
   ],
   "source": [
    "your_dog = Dog('420',22)\n",
    "\n",
    "my_dog.roll_over()\n",
    "print(my_dog.name)\n",
    "print(my_dog.age)\n",
    "my_dog.sit()\n",
    "\n",
    "your_dog.roll_over()\n",
    "print(your_dog.name)\n",
    "print(your_dog.age)\n",
    "your_dog.sit()\n",
    "\n",
    "\n",
    "\n"
   ]
  },
  {
   "cell_type": "markdown",
   "metadata": {},
   "source": [
    "Modyfiyng attriburtes in specifice instances."
   ]
  },
  {
   "cell_type": "code",
   "execution_count": 8,
   "metadata": {},
   "outputs": [],
   "source": [
    "class Car:\n",
    "    def __init__(self,make,model,year):\n",
    "        self.make = make\n",
    "        self.model = model\n",
    "        self.year = year\n",
    "        self.odometer_reading = 0\n",
    "    def get_descriptive_name(self):\n",
    "        long_name =f'{self.make} {self.model} {self.year}'\n",
    "        return long_name.title()\n",
    "    def read_odometer(self):\n",
    "        print(f'The odometer is at {self.odometer_reading}')\n",
    "\n",
    "my_new_car = Car('Chapri','stolen',1960)\n",
    "        "
   ]
  },
  {
   "cell_type": "markdown",
   "metadata": {},
   "source": [
    "Supoose we have the atrribute odometer default at 0"
   ]
  },
  {
   "cell_type": "code",
   "execution_count": 9,
   "metadata": {},
   "outputs": [
    {
     "name": "stdout",
     "output_type": "stream",
     "text": [
      "Chapri Stolen 1960\n",
      "The odometer is at 0\n"
     ]
    }
   ],
   "source": [
    "my_new_car = Car('Chapri','stolen',1960)\n",
    "\n",
    "print(my_new_car.get_descriptive_name())\n",
    "\n",
    "my_new_car.read_odometer()"
   ]
  },
  {
   "cell_type": "markdown",
   "metadata": {},
   "source": [
    "We can directly change the odometr variable"
   ]
  },
  {
   "cell_type": "code",
   "execution_count": 10,
   "metadata": {},
   "outputs": [
    {
     "name": "stdout",
     "output_type": "stream",
     "text": [
      "The odometer is at 23\n"
     ]
    }
   ],
   "source": [
    "my_new_car.odometer_reading = 23\n",
    "\n",
    "my_new_car.read_odometer()"
   ]
  },
  {
   "cell_type": "markdown",
   "metadata": {},
   "source": [
    "We can have a seperate method to modify. "
   ]
  },
  {
   "cell_type": "code",
   "execution_count": 13,
   "metadata": {},
   "outputs": [
    {
     "name": "stdout",
     "output_type": "stream",
     "text": [
      "The odometer is at 0 miles\n",
      "The odometer is at 150 miles\n"
     ]
    }
   ],
   "source": [
    "del Car\n",
    "class Car:\n",
    "    def __init__(self,make,model,year):\n",
    "        self.make = make\n",
    "        self.model = model\n",
    "        self.year = year\n",
    "        self.odometer_reading = 0\n",
    "    def get_descriptive_name(self):\n",
    "        long_name =f'{self.make} {self.model} {self.year}'\n",
    "        return long_name.title()\n",
    "    def read_odometer(self):\n",
    "        print(f'The odometer is at {self.odometer_reading} miles')\n",
    "    def update_odometer(self,mileage):\n",
    "        self.odometer_reading = mileage\n",
    "\n",
    "my_car = Car('Chapri','stolen',1960)\n",
    "\n",
    "my_car.read_odometer()\n",
    "\n",
    "my_car.update_odometer(150)\n",
    "\n",
    "my_car.read_odometer()\n"
   ]
  },
  {
   "cell_type": "markdown",
   "metadata": {},
   "source": [
    "Also we can increment too"
   ]
  },
  {
   "cell_type": "code",
   "execution_count": 16,
   "metadata": {},
   "outputs": [
    {
     "name": "stdout",
     "output_type": "stream",
     "text": [
      "The odometer is at 500000 miles\n",
      "The odometer is at 510000 miles\n"
     ]
    }
   ],
   "source": [
    "\n",
    "del Car\n",
    "class Car:\n",
    "    def __init__(self,make,model,year):\n",
    "        self.make = make\n",
    "        self.model = model\n",
    "        self.year = year\n",
    "        self.odometer_reading = 500000\n",
    "    def get_descriptive_name(self):\n",
    "        long_name =f'{self.make} {self.model} {self.year}'\n",
    "        return long_name.title()\n",
    "    def read_odometer(self):\n",
    "        print(f'The odometer is at {self.odometer_reading} miles')\n",
    "    def update_odometer(self,mileage):\n",
    "        self.odometer_reading = mileage\n",
    "    def incremenet_odometer(self,miles):\n",
    "        self.odometer_reading += miles\n",
    "my_car = Car('Chapri','stolen',1960)\n",
    "\n",
    "my_car.read_odometer()\n",
    "\n",
    "my_car.incremenet_odometer(10000)\n",
    "\n",
    "my_car.read_odometer()"
   ]
  },
  {
   "cell_type": "markdown",
   "metadata": {},
   "source": [
    "Inheritance \n",
    "\n",
    "parent class is the old class, child is new class "
   ]
  },
  {
   "cell_type": "code",
   "execution_count": 27,
   "metadata": {},
   "outputs": [
    {
     "name": "stdout",
     "output_type": "stream",
     "text": [
      "Chapri Indistiry Stolen From China 2002\n",
      "Everraddi\n",
      "The car has the battery of type Everraddi with size 3.\n"
     ]
    }
   ],
   "source": [
    "class Electric_car(Car):\n",
    "    def __init__(self, make, model, battery,year):\n",
    "        super().__init__(make, model, year)\n",
    "        self.battery = battery\n",
    "        self.battery_size = 75\n",
    "    def describe_battery(self):\n",
    "        if 'chapri' in self.make.lower():\n",
    "            self.battery_size = 3\n",
    "        print(f'The car has the battery of type {self.battery} with size {self.battery_size}.')    \n",
    "    \n",
    "my_new_car = Electric_car('Chapri Indistiry','stolen from China','Everraddi',2002)\n",
    "\n",
    "print(my_new_car.get_descriptive_name())\n",
    "print(my_new_car.battery)\n",
    "\n",
    "my_new_car.describe_battery()"
   ]
  },
  {
   "cell_type": "markdown",
   "metadata": {},
   "source": [
    "How to overide methods?\n",
    "Justwrite another function on top of them lol."
   ]
  },
  {
   "cell_type": "code",
   "execution_count": 31,
   "metadata": {},
   "outputs": [
    {
     "name": "stdout",
     "output_type": "stream",
     "text": [
      "Chapri Indistiry Stolen From China 2002 Everraddi\n",
      "Everraddi\n",
      "The car has the battery of type Everraddi with size 3.\n"
     ]
    }
   ],
   "source": [
    "del Electric_car\n",
    "class Electric_car(Car):\n",
    "    def __init__(self, make, model, battery,year):\n",
    "        super().__init__(make, model, year)\n",
    "        self.battery = battery\n",
    "        self.battery_size = 75\n",
    "    def describe_battery(self):\n",
    "        if 'chapri' in self.make.lower():\n",
    "            self.battery_size = 3\n",
    "        print(f'The car has the battery of type {self.battery} with size {self.battery_size}.')    \n",
    "    def get_descriptive_name(self):\n",
    "        long_name = super().get_descriptive_name()\n",
    "        long_name += f' {self.battery}'\n",
    "        return long_name.title()\n",
    "my_new_car = Electric_car('Chapri Indistiry','stolen from China','Everraddi',2002)\n",
    "\n",
    "print(my_new_car.get_descriptive_name())\n",
    "print(my_new_car.battery)\n",
    "\n",
    "my_new_car.describe_battery()"
   ]
  },
  {
   "cell_type": "markdown",
   "metadata": {},
   "source": []
  },
  {
   "cell_type": "code",
   "execution_count": 42,
   "metadata": {},
   "outputs": [
    {
     "name": "stdout",
     "output_type": "stream",
     "text": [
      "Chapri Indistiry Stolen From China 2002 Everraddi\n",
      "Everraddi\n"
     ]
    }
   ],
   "source": [
    "del Electric_car\n",
    "\n",
    "class Battery:\n",
    "    def __init__(self,name):\n",
    "        self.name = name\n",
    "        self.size = 75\n",
    "\n",
    "\n",
    "class Electric_car(Car):\n",
    "    def __init__(self, make, model, battery,year):\n",
    "        super().__init__(make, model, year)\n",
    "        self.battery = Battery(battery)\n",
    "    def describe_battery(self):\n",
    "        if 'chapri' in self.make.lower():\n",
    "            self.size = 3\n",
    "    def get_descriptive_name(self):\n",
    "        long_name = super().get_descriptive_name()\n",
    "        long_name += f' {self.battery.name}'\n",
    "        return long_name.title()\n",
    "my_new_car = Electric_car('Chapri Indistiry','stolen from China','Everraddi',2002)\n",
    "\n",
    "print(my_new_car.get_descriptive_name())\n",
    "print(my_new_car.battery.name)\n",
    "\n",
    "my_new_car.describe_battery()"
   ]
  }
 ],
 "metadata": {
  "kernelspec": {
   "display_name": "Python 3",
   "language": "python",
   "name": "python3"
  },
  "language_info": {
   "codemirror_mode": {
    "name": "ipython",
    "version": 3
   },
   "file_extension": ".py",
   "mimetype": "text/x-python",
   "name": "python",
   "nbconvert_exporter": "python",
   "pygments_lexer": "ipython3",
   "version": "3.11.3"
  }
 },
 "nbformat": 4,
 "nbformat_minor": 2
}
