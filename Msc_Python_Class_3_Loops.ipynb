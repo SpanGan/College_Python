{
 "cells": [
  {
   "cell_type": "markdown",
   "metadata": {},
   "source": [
    "Looping\n"
   ]
  },
  {
   "cell_type": "code",
   "execution_count": 12,
   "metadata": {},
   "outputs": [
    {
     "name": "stdout",
     "output_type": "stream",
     "text": [
      "alice\n",
      "david\n",
      "carolina\n"
     ]
    }
   ],
   "source": [
    "magician = ['alice','david','carolina']\n",
    "\n",
    "for mage in magician:\n",
    "    print(mage)"
   ]
  },
  {
   "cell_type": "markdown",
   "metadata": {},
   "source": [
    "A closer look at looping. This is the most common way to automate operations\n",
    "    "
   ]
  },
  {
   "cell_type": "code",
   "execution_count": 14,
   "metadata": {},
   "outputs": [
    {
     "name": "stdout",
     "output_type": "stream",
     "text": [
      "Tabby\n",
      "Persian\n",
      "Egyptian\n",
      "Bengal\n",
      "Orange\n"
     ]
    }
   ],
   "source": [
    "cats = ['tabby','persian','egyptian','bengal','orange']\n",
    "\n",
    "for cat in cats:\n",
    "    print(cat.title())"
   ]
  },
  {
   "cell_type": "code",
   "execution_count": 23,
   "metadata": {},
   "outputs": [
    {
     "name": "stdout",
     "output_type": "stream",
     "text": [
      "\n",
      "I liked the part  where Alice said it's alicein'n time, and \n",
      "aliceed all over the place.\n",
      "Please do another show, Alice.\n",
      "\n",
      "I liked the part  where David said it's davidin'n time, and \n",
      "davided all over the place.\n",
      "Please do another show, David.\n",
      "\n",
      "I liked the part  where Carolina said it's carolinain'n time, and \n",
      "carolinaed all over the place.\n",
      "Please do another show, Carolina.\n",
      "\n",
      "Thank you everyone, it was truly one of the shows of all time.\n"
     ]
    }
   ],
   "source": [
    "magician = ['alice','david','carolina']\n",
    "\n",
    "for mage in magician:\n",
    "    print(f\"\\nI liked the part  where {mage.title()} said it's {mage}in'n time, and \\n{mage}ed all over the place.\")\n",
    "    print(f\"Please do another show, {mage.title()}.\")\n",
    "print(f\"\\nThank you everyone, it was truly one of the shows of all time.\")"
   ]
  },
  {
   "cell_type": "markdown",
   "metadata": {},
   "source": [
    "Indentation errors."
   ]
  },
  {
   "cell_type": "code",
   "execution_count": 24,
   "metadata": {},
   "outputs": [
    {
     "ename": "IndentationError",
     "evalue": "expected an indented block after 'for' statement on line 3 (1054133832.py, line 4)",
     "output_type": "error",
     "traceback": [
      "\u001b[1;36m  Cell \u001b[1;32mIn[24], line 4\u001b[1;36m\u001b[0m\n\u001b[1;33m    print(mage)\u001b[0m\n\u001b[1;37m    ^\u001b[0m\n\u001b[1;31mIndentationError\u001b[0m\u001b[1;31m:\u001b[0m expected an indented block after 'for' statement on line 3\n"
     ]
    }
   ],
   "source": [
    "magician = ['alice','david','carolina']\n",
    "\n",
    "for mage in magician:\n",
    "print(mage)"
   ]
  },
  {
   "cell_type": "markdown",
   "metadata": {},
   "source": [
    "Indentation may cause problems in code. Python does not report error as it sees this program as legitimate. We must be carful of this effect.\n"
   ]
  },
  {
   "cell_type": "code",
   "execution_count": 25,
   "metadata": {},
   "outputs": [
    {
     "name": "stdout",
     "output_type": "stream",
     "text": [
      "\n",
      "I liked the part  where Alice said it's alicein'n time, and \n",
      "aliceed all over the place.\n",
      "Please do another show, Alice.\n",
      "\n",
      "Thank you everyone, it was truly one of the shows of all time.\n",
      "\n",
      "I liked the part  where David said it's davidin'n time, and \n",
      "davided all over the place.\n",
      "Please do another show, David.\n",
      "\n",
      "Thank you everyone, it was truly one of the shows of all time.\n",
      "\n",
      "I liked the part  where Carolina said it's carolinain'n time, and \n",
      "carolinaed all over the place.\n",
      "Please do another show, Carolina.\n",
      "\n",
      "Thank you everyone, it was truly one of the shows of all time.\n"
     ]
    }
   ],
   "source": [
    "magician = ['alice','david','carolina']\n",
    "\n",
    "for mage in magician:\n",
    "    print(f\"\\nI liked the part  where {mage.title()} said it's {mage}in'n time, and \\n{mage}ed all over the place.\")\n",
    "    print(f\"Please do another show, {mage.title()}.\")\n",
    "    print(f\"\\nThank you everyone, it was truly one of the shows of all time.\")"
   ]
  },
  {
   "cell_type": "markdown",
   "metadata": {},
   "source": [
    "Unessecary inedentaion\n",
    "Python will not allow unecessary indentation."
   ]
  },
  {
   "cell_type": "code",
   "execution_count": 26,
   "metadata": {},
   "outputs": [
    {
     "ename": "IndentationError",
     "evalue": "unexpected indent (3765286103.py, line 2)",
     "output_type": "error",
     "traceback": [
      "\u001b[1;36m  Cell \u001b[1;32mIn[26], line 2\u001b[1;36m\u001b[0m\n\u001b[1;33m    print(\"bruh\")\u001b[0m\n\u001b[1;37m    ^\u001b[0m\n\u001b[1;31mIndentationError\u001b[0m\u001b[1;31m:\u001b[0m unexpected indent\n"
     ]
    }
   ],
   "source": [
    "print('Hello World')\n",
    "    print(\"bruh\")"
   ]
  },
  {
   "cell_type": "markdown",
   "metadata": {},
   "source": [
    "Forgetting colon will not allow the loop to run"
   ]
  },
  {
   "cell_type": "code",
   "execution_count": 27,
   "metadata": {},
   "outputs": [
    {
     "ename": "SyntaxError",
     "evalue": "expected ':' (2687245813.py, line 3)",
     "output_type": "error",
     "traceback": [
      "\u001b[1;36m  Cell \u001b[1;32mIn[27], line 3\u001b[1;36m\u001b[0m\n\u001b[1;33m    for mage in magician\u001b[0m\n\u001b[1;37m                        ^\u001b[0m\n\u001b[1;31mSyntaxError\u001b[0m\u001b[1;31m:\u001b[0m expected ':'\n"
     ]
    }
   ],
   "source": [
    "magician = ['alice','david','carolina']\n",
    "\n",
    "for mage in magician\n",
    "    print(f\"\\nI liked the part  where {mage.title()} said it's {mage}in'n time, and \\n{mage}ed all over the place.\")\n",
    "    print(f\"Please do another show, {mage.title()}.\")\n",
    "    print(f\"\\nThank you everyone, it was truly one of the shows of all time.\")"
   ]
  }
 ],
 "metadata": {
  "kernelspec": {
   "display_name": "Python 3",
   "language": "python",
   "name": "python3"
  },
  "language_info": {
   "codemirror_mode": {
    "name": "ipython",
    "version": 3
   },
   "file_extension": ".py",
   "mimetype": "text/x-python",
   "name": "python",
   "nbconvert_exporter": "python",
   "pygments_lexer": "ipython3",
   "version": "3.11.3"
  }
 },
 "nbformat": 4,
 "nbformat_minor": 2
}
