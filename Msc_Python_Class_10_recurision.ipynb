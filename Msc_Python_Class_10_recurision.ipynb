{
 "cells": [
  {
   "cell_type": "code",
   "execution_count": null,
   "metadata": {},
   "outputs": [],
   "source": [
    "def tri_recursion(k):\n",
    "    if k>0:\n",
    "        result = k + tri_recursion(k-1)\n",
    "        print(result)\n",
    "    else:    \n",
    "        result =0       \n",
    "    return result\n",
    "\n",
    "\n",
    "tri_recursion(5)"
   ]
  },
  {
   "cell_type": "code",
   "execution_count": 5,
   "metadata": {},
   "outputs": [
    {
     "name": "stdout",
     "output_type": "stream",
     "text": [
      "4\n"
     ]
    }
   ],
   "source": [
    "def recursive_factorial(n):\n",
    "    if n ==1:\n",
    "        return n\n",
    "    else:\n",
    "        return n*recursive_factorial(n-1)\n",
    "    \n",
    "x = lambda n:n*n\n",
    "print(x(2))"
   ]
  },
  {
   "cell_type": "code",
   "execution_count": 13,
   "metadata": {},
   "outputs": [
    {
     "name": "stdout",
     "output_type": "stream",
     "text": [
      "i\n"
     ]
    }
   ],
   "source": [
    "print('i'*1)"
   ]
  },
  {
   "cell_type": "code",
   "execution_count": 16,
   "metadata": {},
   "outputs": [
    {
     "data": {
      "text/plain": [
       "[1, 2, 3, 4, 5, 6, 7, 8, 9, 10]"
      ]
     },
     "execution_count": 16,
     "metadata": {},
     "output_type": "execute_result"
    }
   ],
   "source": [
    "list(range(1,11))"
   ]
  },
  {
   "cell_type": "code",
   "execution_count": 2,
   "metadata": {},
   "outputs": [
    {
     "name": "stdout",
     "output_type": "stream",
     "text": [
      "11111\n",
      "2222\n",
      "333\n",
      "44\n",
      "5\n",
      "10\n"
     ]
    }
   ],
   "source": [
    "def sqnumbers(n):\n",
    "    for i in range(1,n+1):\n",
    "        print(f'{i}'*(n+1-i))\n",
    "\n",
    "sqnumbers(5)\n",
    "\n",
    "num =10\n",
    "\n",
    "res = num\n",
    "\n",
    "res +=1\n",
    "\n",
    "print(num)"
   ]
  }
 ],
 "metadata": {
  "kernelspec": {
   "display_name": "Python 3",
   "language": "python",
   "name": "python3"
  },
  "language_info": {
   "codemirror_mode": {
    "name": "ipython",
    "version": 3
   },
   "file_extension": ".py",
   "mimetype": "text/x-python",
   "name": "python",
   "nbconvert_exporter": "python",
   "pygments_lexer": "ipython3",
   "version": "3.11.3"
  }
 },
 "nbformat": 4,
 "nbformat_minor": 2
}
