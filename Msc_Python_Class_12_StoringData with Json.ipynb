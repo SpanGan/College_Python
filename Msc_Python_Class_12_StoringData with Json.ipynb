{
 "cells": [
  {
   "cell_type": "code",
   "execution_count": 2,
   "metadata": {},
   "outputs": [],
   "source": [
    "import json\n",
    "\n",
    "numbers = [2,3,5,7,11,13]\n",
    "\n",
    "filename = 'numbers.json'\n",
    "\n",
    "with open(filename,'w') as file:\n",
    "    json.dump(numbers,file)\n",
    " "
   ]
  },
  {
   "cell_type": "code",
   "execution_count": 3,
   "metadata": {},
   "outputs": [
    {
     "name": "stdout",
     "output_type": "stream",
     "text": [
      "[2, 3, 5, 7, 11, 13]\n"
     ]
    }
   ],
   "source": [
    "import json\n",
    "\n",
    "filename = 'numbers.json'\n",
    "\n",
    "with open(filename) as file:\n",
    "    print(json.load(file))"
   ]
  },
  {
   "cell_type": "code",
   "execution_count": 6,
   "metadata": {},
   "outputs": [
    {
     "name": "stdout",
     "output_type": "stream",
     "text": [
      "We will remember you.\n"
     ]
    }
   ],
   "source": [
    "import json\n",
    "\n",
    "username = input('What is your name?')\n",
    "\n",
    "filename = 'username.json'\n",
    "\n",
    "with open(filename,'w') as file:\n",
    "    json.dump(username,file)\n",
    "    print('We will remember you.')\n",
    "\n"
   ]
  },
  {
   "cell_type": "code",
   "execution_count": 7,
   "metadata": {},
   "outputs": [
    {
     "name": "stdout",
     "output_type": "stream",
     "text": [
      "Welcome DDD\n"
     ]
    }
   ],
   "source": [
    "import json\n",
    "\n",
    "filename = 'username.json'\n",
    "\n",
    "with open(filename) as file:\n",
    "    username = json.load(file)\n",
    "    print(f'Welcome {username}')"
   ]
  },
  {
   "cell_type": "code",
   "execution_count": null,
   "metadata": {},
   "outputs": [],
   "source": [
    "import json\n",
    "\n",
    "filename = 'username.json'\n",
    "\n",
    "with open(filename) as file:\n",
    "    username = json.load(file)\n",
    "    print(f'Welcome {username}')"
   ]
  },
  {
   "cell_type": "code",
   "execution_count": 16,
   "metadata": {},
   "outputs": [
    {
     "name": "stdout",
     "output_type": "stream",
     "text": [
      "Me name gay\n"
     ]
    }
   ],
   "source": [
    "import json\n",
    "\n",
    "filename = 'username.json'\n",
    "\n",
    "try:\n",
    "    with open(filename) as file:\n",
    "        username = json.load(file)\n",
    "        print(username)\n",
    "except FileNotFoundError:\n",
    "    username = input('What is your name?')\n",
    "    with open(filename,'w') as file:\n",
    "        json.dump(username,file)\n",
    "        print('We will remember you.')"
   ]
  },
  {
   "cell_type": "markdown",
   "metadata": {},
   "source": [
    "Refactoring: Organising code into functions for easier reading and use\n"
   ]
  },
  {
   "cell_type": "code",
   "execution_count": 7,
   "metadata": {},
   "outputs": [
    {
     "name": "stdout",
     "output_type": "stream",
     "text": [
      "Gayname\n",
      "{'IsGay': 'Anumoy is not confirmed Gay'}\n"
     ]
    }
   ],
   "source": [
    "import json\n",
    "\n",
    "def greet_user(filename,username):\n",
    "    filename = filename +'.json'\n",
    "    try:\n",
    "        with open(filename) as file:\n",
    "            print(json.load(file))\n",
    "    except FileNotFoundError:\n",
    "        with open(filename,'w') as file:\n",
    "            json.dump(username,file)\n",
    "            print('We will remember you.')\n",
    "greet_user('SomeGuy','Gayname')\n",
    "\n",
    "greet_user('Me22002','Anumoy is not confirmed Gay')\n"
   ]
  }
 ],
 "metadata": {
  "kernelspec": {
   "display_name": "Python 3",
   "language": "python",
   "name": "python3"
  },
  "language_info": {
   "codemirror_mode": {
    "name": "ipython",
    "version": 3
   },
   "file_extension": ".py",
   "mimetype": "text/x-python",
   "name": "python",
   "nbconvert_exporter": "python",
   "pygments_lexer": "ipython3",
   "version": "3.11.3"
  }
 },
 "nbformat": 4,
 "nbformat_minor": 2
}
