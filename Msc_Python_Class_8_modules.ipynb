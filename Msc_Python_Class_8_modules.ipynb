{
 "cells": [
  {
   "cell_type": "markdown",
   "metadata": {},
   "source": [
    "Importing modules"
   ]
  },
  {
   "cell_type": "code",
   "execution_count": 10,
   "metadata": {},
   "outputs": [
    {
     "name": "stdout",
     "output_type": "stream",
     "text": [
      "Pizza of 10 inches with the following toppings\n",
      "peperoni\n",
      "pepper\n",
      "chips\n"
     ]
    }
   ],
   "source": [
    "import Msc_Python_Class_8_pizza_module \n",
    "\n",
    "Msc_Python_Class_8_pizza_module.make_pizza('peperoni','pepper','chips',size=10)\n",
    "    "
   ]
  },
  {
   "cell_type": "markdown",
   "metadata": {},
   "source": []
  },
  {
   "cell_type": "markdown",
   "metadata": {},
   "source": [
    "import specific function"
   ]
  },
  {
   "cell_type": "code",
   "execution_count": 11,
   "metadata": {},
   "outputs": [
    {
     "name": "stdout",
     "output_type": "stream",
     "text": [
      "Pizza of 6 inches with the following toppings\n",
      "chocolate\n",
      "chalk\n",
      "chips\n"
     ]
    }
   ],
   "source": [
    "from Msc_Python_Class_8_pizza_module import make_pizza\n",
    "\n",
    "make_pizza('chocolate','chalk','chips')"
   ]
  },
  {
   "cell_type": "markdown",
   "metadata": {},
   "source": [
    "using function as alias This is to avoid confusion, as the previous commands will still work the same."
   ]
  },
  {
   "cell_type": "code",
   "execution_count": 16,
   "metadata": {},
   "outputs": [
    {
     "name": "stdout",
     "output_type": "stream",
     "text": [
      "Pizza of 6 inches with the following toppings\n",
      "chocolate\n",
      "chalk\n",
      "chips\n"
     ]
    }
   ],
   "source": [
    "from Msc_Python_Class_8_pizza_module import make_pizza as mp\n",
    "\n",
    "mp('chocolate','chalk','chips')"
   ]
  },
  {
   "cell_type": "code",
   "execution_count": 18,
   "metadata": {},
   "outputs": [
    {
     "name": "stdout",
     "output_type": "stream",
     "text": [
      "Pizza of 6 inches with the following toppings\n",
      "chocolate\n",
      "chalk\n",
      "chips\n"
     ]
    }
   ],
   "source": [
    "import Msc_Python_Class_8_pizza_module as pizza\n",
    "\n",
    "pizza.make_pizza('chocolate','chalk','chips')\n",
    "\n"
   ]
  },
  {
   "cell_type": "markdown",
   "metadata": {},
   "source": [
    "Importing all fucntions using * BUT WILL CAUSE PROBLEM IN LARGE MODULE AS PYTHON MAY OVERWRITE EXISTING FUNCTION \n"
   ]
  },
  {
   "cell_type": "code",
   "execution_count": 19,
   "metadata": {},
   "outputs": [
    {
     "name": "stdout",
     "output_type": "stream",
     "text": [
      "Pizza of 3 inches with the following toppings\n",
      "sds\n",
      "safaw\n",
      "sadasds\n"
     ]
    }
   ],
   "source": [
    "from Msc_Python_Class_8_pizza_module import *\n",
    "\n",
    "make_pizza('sds','safaw','sadasds',size=3)"
   ]
  },
  {
   "cell_type": "markdown",
   "metadata": {},
   "source": []
  },
  {
   "cell_type": "markdown",
   "metadata": {},
   "source": []
  },
  {
   "cell_type": "markdown",
   "metadata": {},
   "source": []
  },
  {
   "cell_type": "markdown",
   "metadata": {},
   "source": []
  },
  {
   "cell_type": "markdown",
   "metadata": {},
   "source": []
  }
 ],
 "metadata": {
  "kernelspec": {
   "display_name": "Python 3",
   "language": "python",
   "name": "python3"
  },
  "language_info": {
   "codemirror_mode": {
    "name": "ipython",
    "version": 3
   },
   "file_extension": ".py",
   "mimetype": "text/x-python",
   "name": "python",
   "nbconvert_exporter": "python",
   "pygments_lexer": "ipython3",
   "version": "3.11.3"
  }
 },
 "nbformat": 4,
 "nbformat_minor": 2
}
