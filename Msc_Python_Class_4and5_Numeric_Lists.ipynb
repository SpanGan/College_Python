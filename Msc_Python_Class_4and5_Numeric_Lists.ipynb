{
 "cells": [
  {
   "cell_type": "markdown",
   "metadata": {},
   "source": [
    "Making Numeric lists"
   ]
  },
  {
   "cell_type": "markdown",
   "metadata": {},
   "source": [
    "run using  Range function\n",
    "\n",
    "range function is as follows range(Interger to start from,interger to end at)\n",
    "\n",
    "The default start point is 0 is no start is specified"
   ]
  },
  {
   "cell_type": "code",
   "execution_count": 3,
   "metadata": {},
   "outputs": [
    {
     "name": "stdout",
     "output_type": "stream",
     "text": [
      "1\n",
      "1\n",
      "2\n",
      "4\n",
      "3\n",
      "9\n",
      "4\n",
      "16\n",
      "0\n",
      "1\n",
      "2\n",
      "3\n",
      "4\n"
     ]
    }
   ],
   "source": [
    "for value in range(1,5):\n",
    "    print(value)\n",
    "    print(value**2)\n",
    "\n",
    "#no start specified\n",
    "for value in range(5):\n",
    "    print(value)"
   ]
  },
  {
   "cell_type": "markdown",
   "metadata": {},
   "source": [
    "List Function\n",
    "list(range(1,6)) will make a list \n",
    "\n",
    "even numbers can be printed using \n",
    "list(range(start,End,2)) \n",
    "\n",
    "i=1(2)20"
   ]
  },
  {
   "cell_type": "code",
   "execution_count": 19,
   "metadata": {},
   "outputs": [
    {
     "name": "stdout",
     "output_type": "stream",
     "text": [
      "[1, 2, 3, 4, 5]\n",
      "[1, 3, 5, 7, 9, 11, 13, 15, 17, 19]\n"
     ]
    }
   ],
   "source": [
    "numlist = list(range(1,6))\n",
    "\n",
    "print(numlist)\n",
    "\n",
    "evennum = list(range(1,20,2))\n",
    "\n",
    "print(evennum)"
   ]
  },
  {
   "cell_type": "code",
   "execution_count": 49,
   "metadata": {},
   "outputs": [
    {
     "name": "stdout",
     "output_type": "stream",
     "text": [
      "[0, 1, 4, 9, 16, 25, 36, 49, 64, 81, 100]\n"
     ]
    }
   ],
   "source": [
    "squares = []\n",
    "\n",
    "#We cant't do the below as there is no index 0 in empty list\n",
    "# print(squares[0])\n",
    "\n",
    "for value in range(11):\n",
    "    square = value**2\n",
    "    squares.append(square)  \n",
    "print(squares)  \n"
   ]
  },
  {
   "cell_type": "code",
   "execution_count": 52,
   "metadata": {},
   "outputs": [
    {
     "name": "stdout",
     "output_type": "stream",
     "text": [
      "[0, 1, 4, 9, 16, 25, 36, 49, 64, 81, 100]\n"
     ]
    }
   ],
   "source": [
    "squares = []\n",
    "#This can be optimised\n",
    "\n",
    "for value in range(11):\n",
    "    squares.append(value**2)\n",
    "print(squares)"
   ]
  },
  {
   "cell_type": "markdown",
   "metadata": {},
   "source": [
    "Simple statistics with a list of numbers\n",
    "min, max, sum"
   ]
  },
  {
   "cell_type": "code",
   "execution_count": 57,
   "metadata": {},
   "outputs": [
    {
     "name": "stdout",
     "output_type": "stream",
     "text": [
      "[0, 1, 2, 3, 4, 5, 6, 7, 8, 9]\n",
      "0\n",
      "9\n",
      "45\n"
     ]
    }
   ],
   "source": [
    "digits = list(range(10))\n",
    "print(digits)\n",
    "print(min(digits))\n",
    "print(max(digits))\n",
    "print(sum(digits))\n"
   ]
  },
  {
   "cell_type": "markdown",
   "metadata": {},
   "source": [
    "List comprehesnion\n",
    "We can directly make lists"
   ]
  },
  {
   "cell_type": "code",
   "execution_count": 60,
   "metadata": {},
   "outputs": [
    {
     "name": "stdout",
     "output_type": "stream",
     "text": [
      "[0, 1, 4, 9, 16, 25, 36, 49, 64, 81, 100]\n"
     ]
    }
   ],
   "source": [
    "squares =[value**2 for value in range(11)]\n",
    "\n",
    "print(squares)"
   ]
  },
  {
   "cell_type": "markdown",
   "metadata": {},
   "source": [
    "Slicing  a list\n",
    "\n",
    "list[start index:end]\n",
    "\n",
    "list[start index:]  will give from start point at the end of the list\n",
    "\n",
    "The rules of index of list will apply. \n",
    "\n",
    "Slicing of list includes the start index and excludes the last index."
   ]
  },
  {
   "cell_type": "code",
   "execution_count": 11,
   "metadata": {},
   "outputs": [
    {
     "name": "stdout",
     "output_type": "stream",
     "text": [
      "['micheal', 'florence']\n",
      "['charles', 'martina', 'micheal', 'florence']\n",
      "['micheal']\n",
      "['micheal', 'florence', 'pele']\n",
      "['charles', 'florence']\n",
      "last three Players are ['micheal', 'florence', 'pele']\n"
     ]
    }
   ],
   "source": [
    "players=['charles','martina','micheal','florence','pele']\n",
    "\n",
    "print(players[2:4])\n",
    "print(players[:4])\n",
    "print(players[2:-2])\n",
    "print(players[2:7])\n",
    "print(players[0:7:3])\n",
    "\n",
    "print(f\"last three Players are {players[-3:]}\")"
   ]
  },
  {
   "cell_type": "markdown",
   "metadata": {},
   "source": [
    "Looping Through a slice\n"
   ]
  },
  {
   "cell_type": "code",
   "execution_count": 13,
   "metadata": {},
   "outputs": [
    {
     "name": "stdout",
     "output_type": "stream",
     "text": [
      "First three players are:\n",
      "Charles\n",
      "Martina\n",
      "Micheal\n"
     ]
    }
   ],
   "source": [
    "players=['charles','martina','micheal','florence','pele']\n",
    "print(\"First three players are:\")\n",
    "for player in players[:3]:\n",
    "    print(player.title())"
   ]
  },
  {
   "cell_type": "markdown",
   "metadata": {},
   "source": [
    "To copy a slice , we can spcify the start and the end index\n",
    "\n",
    "To fully copy a slice, use [:]\n",
    "\n",
    "list1 = list2 will not work as it assumes that list1 and list2 are different names for the same list\n"
   ]
  },
  {
   "cell_type": "code",
   "execution_count": 32,
   "metadata": {},
   "outputs": [
    {
     "name": "stdout",
     "output_type": "stream",
     "text": [
      "These are my favorite foods:\n",
      "['dahiwada', 'upma', 'idly', 'dosa', 'pizza']\n",
      "These are my friend's favorite foods:\n",
      "['dahiwada', 'upma', 'idly', 'dosa', 'pizza']\n",
      "\n",
      "My   own    favorite food:['dahiwada', 'upma', 'idly', 'dosa', 'pizza', 'chipotle'] \n",
      "My friend's favorite food:['dahiwada', 'upma', 'idly', 'dosa', 'pizza', 'chips']\n"
     ]
    }
   ],
   "source": [
    "my_foods = ['dahiwada','upma','idly','dosa','pizza']\n",
    "print(f'These are my favorite foods:\\n{my_foods}' )\n",
    "friend_foods = my_foods[:]\n",
    "print(f'These are my friend\\'s favorite foods:\\n{friend_foods}' )\n",
    "\n",
    "my_foods.append('chipotle')\n",
    "friend_foods.append('chips')\n",
    "\n",
    "print(f'\\nMy   own    favorite food:{my_foods} \\nMy friend\\'s favorite food:{friend_foods}')"
   ]
  }
 ],
 "metadata": {
  "kernelspec": {
   "display_name": "Python 3",
   "language": "python",
   "name": "python3"
  },
  "language_info": {
   "codemirror_mode": {
    "name": "ipython",
    "version": 3
   },
   "file_extension": ".py",
   "mimetype": "text/x-python",
   "name": "python",
   "nbconvert_exporter": "python",
   "pygments_lexer": "ipython3",
   "version": "3.11.3"
  }
 },
 "nbformat": 4,
 "nbformat_minor": 2
}
