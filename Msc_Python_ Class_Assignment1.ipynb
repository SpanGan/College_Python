{
 "cells": [
  {
   "cell_type": "markdown",
   "metadata": {},
   "source": [
    "3-1. Names: Store the names of a few of your friends in a list called names. Print\n",
    "each person’s name by accessing each element in the list, one at a time."
   ]
  },
  {
   "cell_type": "code",
   "execution_count": 1,
   "metadata": {},
   "outputs": [
    {
     "name": "stdout",
     "output_type": "stream",
     "text": [
      "sam\n",
      "phil\n",
      "david\n",
      "golaith\n",
      "pandey\n"
     ]
    }
   ],
   "source": [
    "#List of friends\n",
    "friends = ['sam','phil','david','golaith','pandey' ]\n",
    "#Printing names of Friends\n",
    "\n",
    "print(friends[0])\n",
    "print(friends[1])\n",
    "print(friends[2])\n",
    "print(friends[3])\n",
    "print(friends[4])"
   ]
  },
  {
   "cell_type": "markdown",
   "metadata": {},
   "source": [
    "3-2. Greetings: Start with the list you used in Exercise 3-1, but instead of just\n",
    "printing each person’s name, print a message to them. The text of each message should be the same, but each message should be personalized with the\n",
    "person’s name."
   ]
  },
  {
   "cell_type": "code",
   "execution_count": 2,
   "metadata": {},
   "outputs": [
    {
     "name": "stdout",
     "output_type": "stream",
     "text": [
      "\n",
      "Hey Sam, how are you doing?\n",
      "\n",
      "Hey Phil, how are you doing?\n",
      "\n",
      "Hey David, how are you doing?\n",
      "\n",
      "Hey Golaith, how are you doing?\n",
      "\n",
      "Hey Pandey, how are you doing?\n"
     ]
    }
   ],
   "source": [
    "#List of friends\n",
    "friends = ['sam','phil','david','golaith','pandey' ]\n",
    "\n",
    "#Printing messages to friends\n",
    "\n",
    "print(f'\\nHey {friends[0].title()}, how are you doing?')\n",
    "print(f'\\nHey {friends[1].title()}, how are you doing?')\n",
    "print(f'\\nHey {friends[2].title()}, how are you doing?')\n",
    "print(f'\\nHey {friends[3].title()}, how are you doing?')\n",
    "print(f'\\nHey {friends[4].title()}, how are you doing?')"
   ]
  },
  {
   "cell_type": "markdown",
   "metadata": {},
   "source": [
    "3-3. Your Own List: Think of your favorite mode of transportation, such as a\n",
    "motorcycle or a car, and make a list that stores several examples. Use your list\n",
    "to print a series of statements about these items, such as “I would like to own a\n",
    "Honda motorcycle.”"
   ]
  },
  {
   "cell_type": "code",
   "execution_count": 3,
   "metadata": {},
   "outputs": [
    {
     "name": "stdout",
     "output_type": "stream",
     "text": [
      "\n",
      "I would like to own a car\n",
      "\n",
      "I would not like to own a scooter\n",
      "\n",
      "I would not like to ride a bike\n",
      "\n",
      "I would like to travel in a bus\n",
      "\n",
      "I would like to farm using a tractor\n"
     ]
    }
   ],
   "source": [
    "#List of Vehicles\n",
    "vehicles = ['car','scooter','bike','bus','tractor']\n",
    "\n",
    "#Printing statments\n",
    "print(f'\\nI would like to own a {vehicles[0]}')\n",
    "print(f'\\nI would not like to own a {vehicles[1]}')\n",
    "print(f'\\nI would not like to ride a {vehicles[2]}')\n",
    "print(f'\\nI would like to travel in a {vehicles[3]}')\n",
    "print(f'\\nI would like to farm using a {vehicles[4]}')\n"
   ]
  },
  {
   "cell_type": "markdown",
   "metadata": {},
   "source": [
    "3-4. Guest List: If you could invite anyone, living or deceased, to dinner, who\n",
    "would you invite? Make a list that includes at least three people you’d like to\n",
    "invite to dinner. Then use your list to print a message to each person, inviting\n",
    "them to dinner."
   ]
  },
  {
   "cell_type": "code",
   "execution_count": 4,
   "metadata": {},
   "outputs": [
    {
     "name": "stdout",
     "output_type": "stream",
     "text": [
      "\n",
      "Dear Adam, you are invited to dinner to discuss economics.\n",
      "\n",
      "Dear Lewis, you are invited to dinner to discuss economics.\n",
      "\n",
      "Dear Karl, you are invited to dinner to discuss economics.\n",
      "\n",
      "Dear Malthus, you are invited to dinner to discuss economics.\n"
     ]
    }
   ],
   "source": [
    "#list of guests\n",
    "guests = ['adam','lewis','karl','malthus']\n",
    "\n",
    "#printing invitations to the guests. \n",
    "print(f'\\nDear {guests[0].title()}, you are invited to dinner to discuss economics.')\n",
    "print(f'\\nDear {guests[1].title()}, you are invited to dinner to discuss economics.')\n",
    "print(f'\\nDear {guests[2].title()}, you are invited to dinner to discuss economics.')\n",
    "print(f'\\nDear {guests[3].title()}, you are invited to dinner to discuss economics.')"
   ]
  },
  {
   "cell_type": "markdown",
   "metadata": {},
   "source": [
    "3-5. Changing Guest List: You just heard that one of your guests can’t make the\n",
    "dinner, so you need to send out a new set of invitations. You’ll have to think of\n",
    "someone else to invite.\n",
    "\n",
    "• Start with your program from Exercise 3-4. Add a print() call at the end of\n",
    "your program, stating the name of the guest who can’t make it.\n",
    "\n",
    "• Modify your list, replacing the name of the guest who can’t make it with the\n",
    "name of the new person you are inviting.\n",
    "\n",
    "• Print a second set of invitation messages, one for each person who is still in\n",
    "your list."
   ]
  },
  {
   "cell_type": "code",
   "execution_count": 5,
   "metadata": {},
   "outputs": [
    {
     "name": "stdout",
     "output_type": "stream",
     "text": [
      "Lewis cannot make it to the dinner.\n",
      "\n",
      "The original guest list is ['adam', 'lewis', 'karl', 'malthus']\n",
      "\n",
      "The new guest list is ['adam', 'keynes', 'karl', 'malthus']\n",
      "\n",
      "Dear Adam, you are invited to dinner to discuss economics.\n",
      "\n",
      "Dear Keynes, you are invited to dinner to discuss economics.\n",
      "\n",
      "Dear Karl, you are invited to dinner to discuss economics.\n",
      "\n",
      "Dear Malthus, you are invited to dinner to discuss economics.\n"
     ]
    }
   ],
   "source": [
    "#list of guests\n",
    "guests = ['adam','lewis','karl','malthus']\n",
    "#Unforutnately, Lewis cannot make it. We will invite Keynes instead. We will remove him.\n",
    "absentee_index = guests.index('lewis')\n",
    "print(f'{guests[absentee_index].title()} cannot make it to the dinner.')\n",
    "\n",
    "\n",
    "print(f'\\nThe original guest list is {guests}')\n",
    "\n",
    "#Replacing the Guest who can't come with Keynes\n",
    "guests[absentee_index] = 'keynes'\n",
    "\n",
    "print(f'\\nThe new guest list is {guests}')\n",
    "\n",
    "#printing invitations to the guests. \n",
    "print(f'\\nDear {guests[0].title()}, you are invited to dinner to discuss economics.')\n",
    "print(f'\\nDear {guests[1].title()}, you are invited to dinner to discuss economics.')\n",
    "print(f'\\nDear {guests[2].title()}, you are invited to dinner to discuss economics.')\n",
    "print(f'\\nDear {guests[3].title()}, you are invited to dinner to discuss economics.')\n"
   ]
  },
  {
   "cell_type": "markdown",
   "metadata": {},
   "source": [
    "3-6. More Guests: You just found a bigger dinner table, so now more space is\n",
    "available. Think of three more guests to invite to dinner.\n",
    "\n",
    "• Start with your program from Exercise 3-4 or 3-5. Add a print() call to the\n",
    "end of your program, informing people that you found a bigger table.\n",
    "\n",
    "• Use insert() to add one new guest to the beginning of your list.\n",
    "\n",
    "• Use insert() to add one new guest to the middle of your list.\n",
    "\n",
    "• Use append() to add one new guest to the end of your list.\n",
    "\n",
    "• Print a new set of invitation messages, one for each person in your list"
   ]
  },
  {
   "cell_type": "code",
   "execution_count": 6,
   "metadata": {},
   "outputs": [
    {
     "name": "stdout",
     "output_type": "stream",
     "text": [
      "Lewis cannot make it to the dinner.\n",
      "\n",
      "The original guest list is ['adam', 'lewis', 'karl', 'malthus']\n",
      "\n",
      "The new guest list is ['adam', 'keynes', 'karl', 'malthus']\n",
      "\n",
      "Dear Adam, you are invited to dinner to discuss economics.\n",
      "\n",
      "Dear Keynes, you are invited to dinner to discuss economics.\n",
      "\n",
      "Dear Karl, you are invited to dinner to discuss economics.\n",
      "\n",
      "Dear Malthus, you are invited to dinner to discuss economics.\n",
      "Hello everyone, I have found a much larger butcher table, we can now invite more people and make them dinner\n",
      "Original guest list was ['adam', 'keynes', 'karl', 'malthus']\n",
      "New guest list is ['machevilli', 'adam', 'keynes', 'schultz', 'karl', 'malthus', 'pigou']\n",
      "\n",
      "Dear Machevilli, you are invited to dinner to discuss economics.\n",
      "Dear Adam, you are invited to dinner to discuss economics.\n",
      "Dear Keynes, you are invited to dinner to discuss economics.\n",
      "Dear Schultz, you are invited to dinner to discuss economics.\n",
      "Dear Karl, you are invited to dinner to discuss economics.\n",
      "Dear Malthus, you are invited to dinner to discuss economics.\n",
      "Dear Pigou, you are invited to dinner to discuss economics.\n"
     ]
    }
   ],
   "source": [
    "guests = ['adam','lewis','karl','malthus']\n",
    "#Unforutnately, Lewis cannot make it. We will invite Keynes instead. We will remove him.\n",
    "absentee_index = guests.index('lewis')\n",
    "print(f'{guests[absentee_index].title()} cannot make it to the dinner.')\n",
    "\n",
    "\n",
    "print(f'\\nThe original guest list is {guests}')\n",
    "\n",
    "#Replacing the Guest who can't come with Keynes\n",
    "guests[absentee_index] = 'keynes'\n",
    "\n",
    "print(f'\\nThe new guest list is {guests}')\n",
    "\n",
    "#printing invitations to the guests. \n",
    "print(f'\\nDear {guests[0].title()}, you are invited to dinner to discuss economics.')\n",
    "print(f'\\nDear {guests[1].title()}, you are invited to dinner to discuss economics.')\n",
    "print(f'\\nDear {guests[2].title()}, you are invited to dinner to discuss economics.')\n",
    "print(f'\\nDear {guests[3].title()}, you are invited to dinner to discuss economics.')\n",
    "\n",
    "print(f'Hello everyone, I have found a much larger butcher table, we can now invite more people and make them dinner')\n",
    "#Table is bigger, I will now invite 3 more guests. They are Machevilli, Schultz and Pigou\n",
    "new_guest1 = 'machevilli'\n",
    "new_guest2 = 'schultz'\n",
    "new_guest3 = 'pigou'\n",
    "\n",
    "\n",
    "\n",
    "print(f'Original guest list was {guests}')\n",
    "\n",
    "#Adding to beginning of guest list\n",
    "guests.insert(0,new_guest1)\n",
    "\n",
    "#Adding to middle of guest list\n",
    "guests.insert(3,new_guest2)\n",
    "\n",
    "#Adding to end of guest list\n",
    "guests.append(new_guest3)\n",
    "\n",
    "\n",
    "print(f'New guest list is {guests}\\n')\n",
    "\n",
    "#printing invitations to the guests. \n",
    "\n",
    "print(f'Dear {guests[0].title()}, you are invited to dinner to discuss economics.')\n",
    "print(f'Dear {guests[1].title()}, you are invited to dinner to discuss economics.')\n",
    "print(f'Dear {guests[2].title()}, you are invited to dinner to discuss economics.')\n",
    "print(f'Dear {guests[3].title()}, you are invited to dinner to discuss economics.')\n",
    "print(f'Dear {guests[4].title()}, you are invited to dinner to discuss economics.')\n",
    "print(f'Dear {guests[5].title()}, you are invited to dinner to discuss economics.')\n",
    "print(f'Dear {guests[6].title()}, you are invited to dinner to discuss economics.')\n",
    "\n",
    "\n"
   ]
  },
  {
   "cell_type": "markdown",
   "metadata": {},
   "source": [
    "3-7. Shrinking Guest List: You just found out that your new dinner table won’t\n",
    "arrive in time for the dinner, and now you have space for only two guests.\n",
    "\n",
    "• Start with your program from Exercise 3-6. Add a new line that prints a\n",
    "message saying that you can invite only two people for dinner.\n",
    "\n",
    "• Use pop() to remove guests from your list one at a time until only two\n",
    "names remain in your list. Each time you pop a name from your list, print a\n",
    "message to that person letting them know you’re sorry you can’t invite them\n",
    "to dinner.\n",
    "\n",
    "• Print a message to each of the two people still on your list, letting them\n",
    "know they’re still invited.\n",
    "\n",
    "• Use del to remove the last two names from your list, so you have an empty\n",
    "list. Print your list to make sure you actually have an empty list at the end of\n",
    "your program.\n"
   ]
  },
  {
   "cell_type": "code",
   "execution_count": 7,
   "metadata": {},
   "outputs": [
    {
     "name": "stdout",
     "output_type": "stream",
     "text": [
      "We must unfortunately remove some guests, as such only two  are invited.\n",
      "\n",
      "Original list was ['machevilli', 'adam', 'keynes', 'schultz', 'karl', 'malthus', 'pigou'].\n",
      "\n",
      "Dear Pigou, I must regretfully uninvite you from the dinner due to a paucity of space.\n",
      "Dear Malthus, I must regretfully uninvite you from the dinner due to a paucity of space.\n",
      "Dear Karl, I must regretfully uninvite you from the dinner due to a paucity of space.\n",
      "Dear Schultz, I must regretfully uninvite you from the dinner due to a paucity of space.\n",
      "Dear Keynes, I must regretfully uninvite you from the dinner due to a paucity of space.\n",
      "\n",
      "New list is ['machevilli', 'adam'].\n",
      "\n",
      "\n",
      "Machevilli, you are still invited.\n",
      "Adam, you are still invited.\n",
      "\n",
      "the list is Empty []\n"
     ]
    }
   ],
   "source": [
    "#The table is late, we cannot prepare dinner out of everyone. We can only invite 2 guests to make the dinner,\n",
    "guests =  ['machevilli', 'adam', 'keynes', 'schultz', 'karl', 'malthus', 'pigou']\n",
    "\n",
    "print(f'We must unfortunately remove some guests, as such only two  are invited.\\n')\n",
    "\n",
    "#Removing names and sending apologies\n",
    "print(f'Original list was {guests}.\\n')\n",
    "\n",
    "print(f'Dear {guests.pop().title()}, I must regretfully uninvite you from the dinner due to a paucity of space.' )\n",
    "print(f'Dear {guests.pop().title()}, I must regretfully uninvite you from the dinner due to a paucity of space.' )\n",
    "print(f'Dear {guests.pop().title()}, I must regretfully uninvite you from the dinner due to a paucity of space.' )\n",
    "print(f'Dear {guests.pop().title()}, I must regretfully uninvite you from the dinner due to a paucity of space.' )\n",
    "print(f'Dear {guests.pop().title()}, I must regretfully uninvite you from the dinner due to a paucity of space.' )\n",
    "\n",
    "print(f'\\nNew list is {guests}.')\n",
    "\n",
    "#Re inviting the invited\n",
    "print(f'\\n')\n",
    "print(f'{guests[0].title()}, you are still invited.')\n",
    "print(f'{guests[1].title()}, you are still invited.')\n",
    "\n",
    "del guests[0]\n",
    "del guests[0]\n",
    "\n",
    "print(f'\\nthe list is Empty {guests}')"
   ]
  },
  {
   "cell_type": "markdown",
   "metadata": {},
   "source": [
    "3-8. Seeing the World: Think of atleast five places in the world you’d like\n",
    "to visit.\n",
    "\n",
    "• Store the locations in a list. Make sure the list is not in alphabetical order.\n",
    "\n",
    "• Print your list in its original order. Don’t worry about printing the list neatly;\n",
    "just print it as a raw Python list.\n",
    "\n",
    "• Use sorted() to print your list in alphabetical order without modifying the\n",
    "actual list.\n",
    "\n",
    "• Show that your list is still in its original order by printing it.\n",
    "\n",
    "• Use sorted() to print your list in reverse-alphabetical order without changing the order of the original list.\n",
    "\n",
    "• Show that your list is still in its original order by printing it again.\n",
    "\n",
    "• Use reverse() to change the order of your list. Print the list to show that its\n",
    "order has changed.\n",
    "\n",
    "• Use reverse() to change the order of your list again. Print the list to show\n",
    "it’s back to its original order.\n",
    "\n",
    "• Use sort() to change your list so it’s stored in alphabetical order. Print the\n",
    "list to show that its order has been changed.\n",
    "\n",
    "• Use sort() to change your list so it’s stored in reverse-alphabetical order.\n",
    "Print the list to show that its order has changed."
   ]
  },
  {
   "cell_type": "code",
   "execution_count": 8,
   "metadata": {},
   "outputs": [
    {
     "name": "stdout",
     "output_type": "stream",
     "text": [
      "\n",
      "['ohio', 'detroit', 'shenzen', 'dehli', 'brazil']\n",
      "\n",
      "['brazil', 'dehli', 'detroit', 'ohio', 'shenzen']\n",
      "\n",
      "['ohio', 'detroit', 'shenzen', 'dehli', 'brazil']\n",
      "\n",
      "['shenzen', 'ohio', 'detroit', 'dehli', 'brazil']\n",
      "\n",
      "['ohio', 'detroit', 'shenzen', 'dehli', 'brazil']\n",
      "\n",
      "['brazil', 'dehli', 'shenzen', 'detroit', 'ohio']\n",
      "\n",
      "['ohio', 'detroit', 'shenzen', 'dehli', 'brazil']\n",
      "\n",
      "['brazil', 'dehli', 'detroit', 'ohio', 'shenzen']\n",
      "\n",
      "['shenzen', 'ohio', 'detroit', 'dehli', 'brazil']\n"
     ]
    }
   ],
   "source": [
    "locations = ['ohio','detroit','shenzen','dehli','brazil']\n",
    "\n",
    "print(f'\\n{locations}')\n",
    "\n",
    "print(f'\\n{sorted(locations)}')\n",
    "\n",
    "print(f'\\n{locations}')\n",
    "\n",
    "print(f'\\n{sorted(locations,reverse=True)}')\n",
    "\n",
    "print(f'\\n{locations}')\n",
    "\n",
    "locations.reverse()\n",
    "\n",
    "print(f'\\n{locations}')\n",
    "\n",
    "locations.reverse()\n",
    "\n",
    "print(f'\\n{locations}')\n",
    "\n",
    "locations.sort()\n",
    "\n",
    "print(f'\\n{locations}')\n",
    "\n",
    "locations.sort(reverse=True)\n",
    "\n",
    "print(f'\\n{locations}')"
   ]
  },
  {
   "cell_type": "markdown",
   "metadata": {},
   "source": [
    "3-9. Dinner Guests: Working with one of the programs from Exercises 3-4\n",
    "through 3-7 (pages 41–42), use len() to print a message indicating the number\n",
    "of people you’re inviting to dinner."
   ]
  },
  {
   "cell_type": "code",
   "execution_count": 9,
   "metadata": {},
   "outputs": [
    {
     "name": "stdout",
     "output_type": "stream",
     "text": [
      "We have invited 7 people\n"
     ]
    }
   ],
   "source": [
    "#List from 3.7\n",
    "guests =  ['machevilli', 'adam', 'keynes', 'schultz', 'karl', 'malthus', 'pigou']\n",
    "\n",
    "print(f\"We have invited {len(guests)} people\")"
   ]
  },
  {
   "cell_type": "markdown",
   "metadata": {},
   "source": [
    "3-10. Every Function: Think of things you could store in a list. For example, you\n",
    "could make a list of mountains, rivers, countries, cities, languages, or anything\n",
    "else you’d like. Write a program that creates a list containing these items and\n",
    "then uses each function introduced in this chapter at least once."
   ]
  },
  {
   "cell_type": "code",
   "execution_count": 10,
   "metadata": {},
   "outputs": [
    {
     "name": "stdout",
     "output_type": "stream",
     "text": [
      "assorted_lists.pop(5) wil give guestlist\n",
      "\n",
      "size of the list now is 9\n",
      "\n",
      ".pop(index) removes the item at the index and let's you use that item. The default index number is 0. i.e. momentomori has been removed from the list.\n",
      " \n",
      "New list ['grocerylist', 'crockerylist', 'amiguslist', 'INSERTLISTUPPER', 'bibliography', 'index', 'Appenedlist', 'lowercaselist']\n",
      "del list[index] will delete the item at that index\n",
      "\n",
      "I will remove grocerylist using assorted_lists.remove('grocerylist')['amiguslist', 'INSERTLISTUPPER', 'bibliography', 'index', 'Appenedlist', 'lowercaselist']\n",
      "\n",
      "List is reversed['lowercaselist', 'Appenedlist', 'index', 'bibliography', 'INSERTLISTUPPER', 'amiguslist']\n",
      "\n",
      "List is no longer reversed['amiguslist', 'INSERTLISTUPPER', 'bibliography', 'index', 'Appenedlist', 'lowercaselist']\n",
      "\n",
      "Sorted alphebetical list is ['Appenedlist', 'INSERTLISTUPPER', 'amiguslist', 'bibliography', 'index', 'lowercaselist'].\n",
      "\n",
      "In reverse alphbetical order is ['lowercaselist', 'index', 'bibliography', 'amiguslist', 'INSERTLISTUPPER', 'Appenedlist']. \n",
      "\n",
      " Order is preserved using sort ['amiguslist', 'INSERTLISTUPPER', 'bibliography', 'index', 'Appenedlist', 'lowercaselist']\n",
      ".sort() will permanently arrange the list in alphbetical order ['Appenedlist', 'INSERTLISTUPPER', 'amiguslist', 'bibliography', 'index', 'lowercaselist']\n",
      "Appenedlist\n",
      "6\n",
      "['Appenedlist', 'INSERTLISTUPPER', 'amiguslist', 'bibliography', 'index', 'lowercaselist']\n",
      "['Appenedlist', 'INSERTLISTUPPER', 'amiguslist', 'index', 'lowercaselist']\n"
     ]
    }
   ],
   "source": [
    "assorted_lists=['grocerylist','crockerylist','amiguslist','momentomori','guestlist','bibliography','index']\n",
    "\n",
    "#Text case\n",
    "\n",
    "\n",
    "assorted_lists.append('appenedlist'.title())\n",
    "assorted_lists.insert(3,'insertlistUpper'.upper())\n",
    "assorted_lists.append('LOWERCASELIST'.lower())\n",
    "print(f'assorted_lists.pop(5) wil give {assorted_lists.pop(5)}')\n",
    "print(f'\\nsize of the list now is {len(assorted_lists)}')\n",
    "\n",
    "print(f'\\n.pop(index) removes the item at the index and let\\'s you use that item. The default index number is 0. i.e. {assorted_lists.pop(4)} has been removed from the list.\\n \\nNew list {assorted_lists}')\n",
    "\n",
    "\n",
    "assorted_lists.remove('grocerylist')\n",
    "del assorted_lists[0]\n",
    "\n",
    "print(f'del list[index] will delete the item at that index')\n",
    "\n",
    "print(f'\\nI will remove grocerylist using assorted_lists.remove(\\'grocerylist\\'){assorted_lists}')\n",
    "\n",
    "assorted_lists.reverse()\n",
    "print(f'\\nList is reversed{assorted_lists}')\n",
    "assorted_lists.reverse()\n",
    "\n",
    "print(f'\\nList is no longer reversed{assorted_lists}')\n",
    "print(f'\\nSorted alphebetical list is {sorted(assorted_lists)}.\\n\\nIn reverse alphbetical order is {sorted(assorted_lists,reverse=True)}. \\n\\n Order is preserved using sort {assorted_lists}')\n",
    "\n",
    "\n",
    "assorted_lists.sort()\n",
    "print(f'.sort() will permanently arrange the list in alphbetical order {assorted_lists}')\n",
    "\n",
    "print(assorted_lists[0])\n",
    "\n",
    "print(len(assorted_lists))\n",
    "print(assorted_lists)\n",
    "del assorted_lists[3]\n",
    "print(assorted_lists)\n",
    "\n"
   ]
  },
  {
   "cell_type": "markdown",
   "metadata": {},
   "source": [
    "3-11. Intentional Error: If you haven’t received an index error in one of your programs yet, try to make one happen. Change an index in one of your programs\n",
    "to produce an index error. Make sure you correct the error before closing the\n",
    "program."
   ]
  },
  {
   "cell_type": "code",
   "execution_count": 11,
   "metadata": {},
   "outputs": [
    {
     "ename": "IndexError",
     "evalue": "list index out of range",
     "output_type": "error",
     "traceback": [
      "\u001b[1;31m---------------------------------------------------------------------------\u001b[0m",
      "\u001b[1;31mIndexError\u001b[0m                                Traceback (most recent call last)",
      "Cell \u001b[1;32mIn[11], line 3\u001b[0m\n\u001b[0;32m      1\u001b[0m templist \u001b[38;5;241m=\u001b[39m [\u001b[38;5;124m'\u001b[39m\u001b[38;5;124mBlack\u001b[39m\u001b[38;5;124m'\u001b[39m,\u001b[38;5;124m\"\u001b[39m\u001b[38;5;124mBlue\u001b[39m\u001b[38;5;124m\"\u001b[39m,\u001b[38;5;124m\"\u001b[39m\u001b[38;5;124mJade\u001b[39m\u001b[38;5;124m\"\u001b[39m,\u001b[38;5;124m\"\u001b[39m\u001b[38;5;124mGreen\u001b[39m\u001b[38;5;124m\"\u001b[39m,\u001b[38;5;124m\"\u001b[39m\u001b[38;5;124mRed\u001b[39m\u001b[38;5;124m\"\u001b[39m,\u001b[38;5;124m\"\u001b[39m\u001b[38;5;124mSkin\u001b[39m\u001b[38;5;124m\"\u001b[39m]\n\u001b[1;32m----> 3\u001b[0m \u001b[38;5;28mprint\u001b[39m(\u001b[43mtemplist\u001b[49m\u001b[43m[\u001b[49m\u001b[38;5;241;43m15\u001b[39;49m\u001b[43m]\u001b[49m)\n",
      "\u001b[1;31mIndexError\u001b[0m: list index out of range"
     ]
    }
   ],
   "source": [
    "templist = ['Black',\"Blue\",\"Jade\",\"Green\",\"Red\",\"Skin\"]\n",
    "\n",
    "print(templist[15])"
   ]
  }
 ],
 "metadata": {
  "kernelspec": {
   "display_name": "Python 3",
   "language": "python",
   "name": "python3"
  },
  "language_info": {
   "codemirror_mode": {
    "name": "ipython",
    "version": 3
   },
   "file_extension": ".py",
   "mimetype": "text/x-python",
   "name": "python",
   "nbconvert_exporter": "python",
   "pygments_lexer": "ipython3",
   "version": "3.11.3"
  }
 },
 "nbformat": 4,
 "nbformat_minor": 2
}
