{
 "cells": [
  {
   "cell_type": "code",
   "execution_count": 1,
   "id": "a63d46a6-9105-4084-a565-8f20ce704a60",
   "metadata": {},
   "outputs": [
    {
     "name": "stdout",
     "output_type": "stream",
     "text": [
      "Hello World\n"
     ]
    }
   ],
   "source": [
    "print(\"Hello World\")"
   ]
  },
  {
   "cell_type": "code",
   "execution_count": 4,
   "id": "728802a5-27a2-4093-a232-bf3991be1066",
   "metadata": {},
   "outputs": [
    {
     "name": "stdout",
     "output_type": "stream",
     "text": [
      "Question:How old are you?\n"
     ]
    }
   ],
   "source": [
    "age = \"How old are you?\"\n",
    "print(\"Question:\" + age)"
   ]
  },
  {
   "cell_type": "code",
   "execution_count": 12,
   "metadata": {},
   "outputs": [
    {
     "name": "stdout",
     "output_type": "stream",
     "text": [
      "A<B\n"
     ]
    }
   ],
   "source": [
    "def compare(A,B):\n",
    "    if A>B:\n",
    "        print(\"A>B\")\n",
    "    else: \n",
    "       print(\"A<B\")\n",
    "\n",
    "compare(23,32)"
   ]
  },
  {
   "cell_type": "code",
   "execution_count": 9,
   "metadata": {},
   "outputs": [
    {
     "name": "stdout",
     "output_type": "stream",
     "text": [
      "Five is probably Greater\n",
      "Five is probably Greater\n"
     ]
    }
   ],
   "source": [
    "if 5>2:\n",
    "    print(\"Five is probably Greater\")\n",
    "if 5>2:\n",
    "                    print(\"Five is probably Greater\")    "
   ]
  },
  {
   "cell_type": "code",
   "execution_count": 1,
   "metadata": {},
   "outputs": [
    {
     "name": "stdout",
     "output_type": "stream",
     "text": [
      "Hello, World man\n"
     ]
    }
   ],
   "source": [
    "#this is a comment\n",
    "print(\"Hello, World man\")"
   ]
  },
  {
   "cell_type": "code",
   "execution_count": 6,
   "metadata": {},
   "outputs": [
    {
     "name": "stdout",
     "output_type": "stream",
     "text": [
      "Hello world\n",
      "Hello worldno\n"
     ]
    }
   ],
   "source": [
    "\n",
    "\"good morning\"\n",
    "print(\"Hello world\")\n",
    "print(\"Hello worldno\")"
   ]
  },
  {
   "cell_type": "code",
   "execution_count": 11,
   "metadata": {},
   "outputs": [
    {
     "name": "stdout",
     "output_type": "stream",
     "text": [
      "Hello\n",
      "      \n",
      "\n",
      "\n",
      "fjskfjsf\n",
      "\n",
      "world\n"
     ]
    }
   ],
   "source": [
    "print(\"\"\"Hello\n",
    "      \n",
    "\n",
    "\n",
    "fjskfjsf\n",
    "\n",
    "world\"\"\")"
   ]
  },
  {
   "cell_type": "code",
   "execution_count": 1,
   "metadata": {},
   "outputs": [
    {
     "name": "stdout",
     "output_type": "stream",
     "text": [
      "Ey my naem 'jeff'\n",
      "my naem \"jeff\"\n",
      "Ey my naem \"jeff\"\n"
     ]
    }
   ],
   "source": [
    "#Put \\ in front of an inverted comma in order to put \" or ' in a string. \n",
    "\n",
    "print(\"Ey my naem 'jeff'\")\n",
    "print('my naem \\'jeff\\'' )\n",
    "print('Ey my naem \"jeff\"')"
   ]
  },
  {
   "cell_type": "code",
   "execution_count": 19,
   "id": "95300adf",
   "metadata": {},
   "outputs": [
    {
     "name": "stdout",
     "output_type": "stream",
     "text": [
      "1\n",
      "20 and 30: 30 Last legitimate vaule is printed\n",
      "20 or 30: 20 First legitimate vaule is printed\n"
     ]
    }
   ],
   "source": [
    "print(45%2)\n",
    "\n",
    "'A'<='B'and'A'=='B'\n",
    "\n",
    "\n",
    "print('20 and 30:',20 and 30, 'Last legitimate vaule is printed')\n",
    "print('20 or 30:',20 or 30, 'First legitimate vaule is printed')"
   ]
  },
  {
   "cell_type": "code",
   "execution_count": 22,
   "metadata": {},
   "outputs": [
    {
     "name": "stdout",
     "output_type": "stream",
     "text": [
      "91125\n",
      "1\n"
     ]
    },
    {
     "data": {
      "text/plain": [
       "[3, 2, 4, 3, 2, 4, 5]"
      ]
     },
     "execution_count": 22,
     "metadata": {},
     "output_type": "execute_result"
    }
   ],
   "source": [
    "\n",
    "print(45**3)\n",
    "print(23%2)\n",
    "[3,2,4,3,2,4,5]"
   ]
  },
  {
   "cell_type": "code",
   "execution_count": 2,
   "metadata": {},
   "outputs": [
    {
     "name": "stdout",
     "output_type": "stream",
     "text": [
      "multiply 23 and 34 is 782\n",
      "multiply 23 and 333 is 7659\n",
      "multiply 223 and 434 is 96782\n",
      "multiply 54 and 45 is 2430\n"
     ]
    }
   ],
   "source": [
    "def multiply(a,b):\n",
    "    _res = a*b\n",
    "    print(\"multiply\",a,\"and\",b,\"is\",_res)\n",
    "multiply(23,34)\n",
    "multiply(23,333)\n",
    "multiply(223,434)\n",
    "\n"
   ]
  },
  {
   "cell_type": "code",
   "execution_count": 29,
   "metadata": {},
   "outputs": [
    {
     "name": "stdout",
     "output_type": "stream",
     "text": [
      "10\n",
      "20\n",
      "30\n"
     ]
    }
   ],
   "source": [
    "x = 10\n",
    "print(x)\n",
    "y = 20\n",
    "print(y)\n",
    "\n",
    "print(x+y)\n"
   ]
  },
  {
   "cell_type": "code",
   "execution_count": 30,
   "metadata": {},
   "outputs": [
    {
     "ename": "SyntaxError",
     "evalue": "invalid decimal literal (3539062076.py, line 3)",
     "output_type": "error",
     "traceback": [
      "\u001b[1;36m  Cell \u001b[1;32mIn[30], line 3\u001b[1;36m\u001b[0m\n\u001b[1;33m    10TEN = 1O #BADDDD\u001b[0m\n\u001b[1;37m     ^\u001b[0m\n\u001b[1;31mSyntaxError\u001b[0m\u001b[1;31m:\u001b[0m invalid decimal literal\n"
     ]
    }
   ],
   "source": [
    "#DONOT START VARIAE NAMES WITH NUMBER\n",
    "\n",
    "10TEN = 1O #BADDDD\n",
    "ten = 10 #good"
   ]
  },
  {
   "cell_type": "code",
   "execution_count": 20,
   "metadata": {},
   "outputs": [
    {
     "name": "stdout",
     "output_type": "stream",
     "text": [
      "<class 'float'>\n",
      "<class 'int'>\n",
      "multiply 6.28 and 3536 is 22206.08\n",
      "<class 'complex'>\n"
     ]
    },
    {
     "data": {
      "text/plain": [
       "complex"
      ]
     },
     "execution_count": 20,
     "metadata": {},
     "output_type": "execute_result"
    }
   ],
   "source": [
    "#float\n",
    "tau:float = 6.28\n",
    "print(type(tau))\n",
    "\n",
    "#int\n",
    "anInteger:int = 3536\n",
    "print(type(anInteger))\n",
    "multiply(tau,anInteger)\n",
    "#complex\n",
    "complicate:complex = 2+3j\n",
    "print(type(complicate))\n"
   ]
  },
  {
   "cell_type": "code",
   "execution_count": 1,
   "metadata": {},
   "outputs": [
    {
     "ename": "NameError",
     "evalue": "name 'compare' is not defined",
     "output_type": "error",
     "traceback": [
      "\u001b[1;31m---------------------------------------------------------------------------\u001b[0m",
      "\u001b[1;31mNameError\u001b[0m                                 Traceback (most recent call last)",
      "\u001b[1;32mc:\\Users\\Spandan\\Desktop\\Python Basics\\Msc_Python_ Class_1.ipynb Cell 14\u001b[0m line \u001b[0;36m1\n\u001b[1;32m----> <a href='vscode-notebook-cell:/c%3A/Users/Spandan/Desktop/Python%20Basics/Msc_Python_%20Class_1.ipynb#X20sZmlsZQ%3D%3D?line=0'>1</a>\u001b[0m compare(\u001b[39m\"\u001b[39m\u001b[39mW\u001b[39m\u001b[39m\"\u001b[39m,\u001b[39m\"\u001b[39m\u001b[39mA\u001b[39m\u001b[39m\"\u001b[39m)\n",
      "\u001b[1;31mNameError\u001b[0m: name 'compare' is not defined"
     ]
    }
   ],
   "source": [
    "compare(\"W\",\"A\")"
   ]
  },
  {
   "cell_type": "code",
   "execution_count": 11,
   "metadata": {},
   "outputs": [
    {
     "name": "stdout",
     "output_type": "stream",
     "text": [
      "multiply 23 and 34 is 782\n",
      "multiply 23 and 333 is 7659\n",
      "multiply 223 and 434 is 96782\n"
     ]
    }
   ],
   "source": [
    "def multiply(a,b):\n",
    "    _res = a*b\n",
    "    print(f\"multiply {a} and {b} is {_res}\")\n",
    "multiply(23,34)\n",
    "multiply(23,333)\n",
    "multiply(223,434)"
   ]
  },
  {
   "cell_type": "code",
   "execution_count": 10,
   "metadata": {},
   "outputs": [
    {
     "name": "stdout",
     "output_type": "stream",
     "text": [
      "Java is the worst language\n",
      "C++ is the worst language\n",
      "C++ is the worst language\n",
      "C++ is worse than Java\n",
      "Java is worse than C++\n"
     ]
    }
   ],
   "source": [
    "#f -> formatted string method\n",
    "lang1 = \"Java\"\n",
    "lang2 = \"C++\"\n",
    "print(f\"{lang1} is the worst language\")\n",
    "print(\"{} is the worst language\".format(lang2))\n",
    "\n",
    "print(\"{} is the worst language\".format(\"C++\"))\n",
    "\n",
    "print(f\"{lang2} is worse than {lang1}\")\n",
    "print(\"{} is worse than {}\".format(lang1, lang2))\n"
   ]
  },
  {
   "cell_type": "code",
   "execution_count": 18,
   "metadata": {},
   "outputs": [
    {
     "name": "stdout",
     "output_type": "stream",
     "text": [
      "Did you arrive on Time? :True\n",
      "Did you arrive on Time? :True\n",
      "Did you arrive on Time? :True\n",
      "Did you arrive on Time? :True\n"
     ]
    }
   ],
   "source": [
    "class_starts = 3\n",
    "class_arival = 2\n",
    "\n",
    "def learning(a,b):\n",
    "    _res = a<b\n",
    "#Format string f can thus be used to create descrptive text using variables of type other than string\n",
    "    print(f\"Did you arrive on Time? :{_res}\")\n",
    "learning(2,3)\n",
    "learning(5,3)\n",
    "learning(223,434)\n",
    "learning(class_arival,class_starts)"
   ]
  },
  {
   "cell_type": "code",
   "execution_count": 19,
   "metadata": {},
   "outputs": [
    {
     "data": {
      "text/plain": [
       "False"
      ]
     },
     "execution_count": 19,
     "metadata": {},
     "output_type": "execute_result"
    }
   ],
   "source": [
    "#Comparison operator ==\n",
    "#Assingnment opertaor =\n",
    "class_starts == class_arival"
   ]
  },
  {
   "cell_type": "code",
   "execution_count": 16,
   "metadata": {},
   "outputs": [
    {
     "name": "stdout",
     "output_type": "stream",
     "text": [
      "9\n",
      "8\n",
      "7\n",
      "6\n",
      "5\n",
      "4\n",
      "3\n",
      "2\n",
      "1\n",
      "0\n"
     ]
    }
   ],
   "source": [
    "def iterate(i:int):\n",
    "    if i > 0:\n",
    "        i -= 1\n",
    "        print(i)\n",
    "        iterate(i)\n",
    "    \n",
    "\n",
    "iterate(10)\n",
    "\n"
   ]
  },
  {
   "cell_type": "code",
   "execution_count": 25,
   "metadata": {},
   "outputs": [
    {
     "name": "stdout",
     "output_type": "stream",
     "text": [
      "None\n",
      "You have passed. Your marks are 0.85%\n",
      "You have passed. Your marks are 0.89%\n",
      "You have passed. Your marks are 0.54%\n"
     ]
    }
   ],
   "source": [
    "\n",
    "\n",
    "\n",
    "\n",
    "def passOrFail(*l:list):\n",
    "    fail_marks = 20\n",
    "    for i in l:\n",
    "        if i > fail_marks:\n",
    "            print(f\"You have passed. Your marks are {i/100}%\")\n",
    "        else:\n",
    "            print(f\"You have failed LoL. Your marks are {i/100}%\")    \n",
    "\n",
    "\n",
    "\n",
    "def Marks(name,i:int):\n",
    "    name = [ ]\n",
    "    while i > 50:\n",
    "        name.append(i/50*100)\n",
    "        i -= 1\n",
    "\n",
    "\n",
    "Bruh =[]\n",
    "print(Marks(Bruh,90))\n",
    "passOrFail(85,89,54)"
   ]
  }
 ],
 "metadata": {
  "kernelspec": {
   "display_name": "Python 3 (ipykernel)",
   "language": "python",
   "name": "python3"
  },
  "language_info": {
   "codemirror_mode": {
    "name": "ipython",
    "version": 3
   },
   "file_extension": ".py",
   "mimetype": "text/x-python",
   "name": "python",
   "nbconvert_exporter": "python",
   "pygments_lexer": "ipython3",
   "version": "3.11.3"
  }
 },
 "nbformat": 4,
 "nbformat_minor": 5
}
