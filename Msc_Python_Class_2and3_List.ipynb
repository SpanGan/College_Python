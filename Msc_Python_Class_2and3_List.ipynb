{
 "cells": [
  {
   "cell_type": "markdown",
   "metadata": {},
   "source": [
    "A list is a collection of Items in order. Lists can be letters of Alphabest, digits fro, zero to i, or the list of names.\n",
    "Lists can consist of any items, and they need not be related.\n",
    "\n",
    "Lists should be named in Plural."
   ]
  },
  {
   "cell_type": "code",
   "execution_count": 1,
   "metadata": {},
   "outputs": [
    {
     "name": "stdout",
     "output_type": "stream",
     "text": [
      "['trek', 'cannondale', 'redline', 'specilised']\n"
     ]
    }
   ],
   "source": [
    "bicycles = ['trek','cannondale','redline','specilised']\n",
    "\n",
    "print(bicycles)"
   ]
  },
  {
   "cell_type": "markdown",
   "metadata": {},
   "source": [
    "Lists are ordered connections so you can access elements using index."
   ]
  },
  {
   "cell_type": "code",
   "execution_count": 5,
   "metadata": {},
   "outputs": [
    {
     "name": "stdout",
     "output_type": "stream",
     "text": [
      "trek\n",
      "cannondale\n",
      "redline\n"
     ]
    }
   ],
   "source": [
    "bicycles = ['trek','cannondale','redline','specilised']\n",
    "print(bicycles[0])\n",
    "print(bicycles[1])\n",
    "print(bicycles[2])"
   ]
  },
  {
   "cell_type": "code",
   "execution_count": 8,
   "metadata": {},
   "outputs": [
    {
     "name": "stdout",
     "output_type": "stream",
     "text": [
      "Trek\n"
     ]
    }
   ],
   "source": [
    "#Excersize\n",
    "bicycles = ['trek','cannondale','redline','specilised']\n",
    "print(bicycles[0].title())\n"
   ]
  },
  {
   "cell_type": "markdown",
   "metadata": {},
   "source": [
    "[-1] This is syntax for getting last object of list.\n",
    "[-2] for second last , [-3] for third last and so on and so forth.\n",
    "-1 can be specified as n-1 where n is the total size of list "
   ]
  },
  {
   "cell_type": "code",
   "execution_count": 10,
   "metadata": {},
   "outputs": [
    {
     "name": "stdout",
     "output_type": "stream",
     "text": [
      "specilised\n",
      "redline\n",
      "cannondale\n",
      "trek\n"
     ]
    }
   ],
   "source": [
    "bicycles = ['trek','cannondale','redline','specilised']\n",
    "print(bicycles[-1])\n",
    "print(bicycles[-2])\n",
    "print(bicycles[-3])\n",
    "print(bicycles[-4])"
   ]
  },
  {
   "cell_type": "markdown",
   "metadata": {},
   "source": [
    "Using individual  values from a list\n",
    "The individual value can be used with normal single value methods."
   ]
  },
  {
   "cell_type": "code",
   "execution_count": 3,
   "metadata": {},
   "outputs": [
    {
     "name": "stdout",
     "output_type": "stream",
     "text": [
      "My first bicycle was a Trek.\n"
     ]
    }
   ],
   "source": [
    "bicycles = ['trek','cannondale','redline','specilised']\n",
    "\n",
    "message = f\"My first bicycle was a {bicycles[0].title()}.\"\n",
    "print(message)"
   ]
  },
  {
   "cell_type": "markdown",
   "metadata": {},
   "source": [
    "How to change, add , remove variable in the list\n",
    "\n",
    "\n",
    "Modyfying elements: The same way that a value can be modified for var, list items can be modified using []  "
   ]
  },
  {
   "cell_type": "code",
   "execution_count": 13,
   "metadata": {},
   "outputs": [
    {
     "name": "stdout",
     "output_type": "stream",
     "text": [
      "['honda', 'yamaha', 'hero']\n",
      "['ducati', 'yamaha', 'hero']\n"
     ]
    }
   ],
   "source": [
    "motorcycles = ['honda','yamaha','hero']\n",
    "\n",
    "print(motorcycles)\n",
    "\n",
    "motorcycles[0] = 'ducati'\n",
    "\n",
    "print(motorcycles)"
   ]
  },
  {
   "cell_type": "markdown",
   "metadata": {},
   "source": [
    "Adding elements in the list:\n",
    "1) Append Element to the end of the list.\n",
    "use .append() method to add valuse to the end of the list. The Append method allows us to build list dynamically"
   ]
  },
  {
   "cell_type": "code",
   "execution_count": 15,
   "metadata": {},
   "outputs": [
    {
     "name": "stdout",
     "output_type": "stream",
     "text": [
      "['honda', 'yamaha', 'hero']\n",
      "['honda', 'yamaha', 'hero', 'ducati']\n"
     ]
    }
   ],
   "source": [
    "motorcycles = ['honda','yamaha','hero']\n",
    "\n",
    "print(motorcycles)\n",
    "\n",
    "motorcycles.append('ducati')\n",
    "\n",
    "print(motorcycles)"
   ]
  },
  {
   "cell_type": "markdown",
   "metadata": {},
   "source": [
    " Startig with an empty list allows user to append data as required. "
   ]
  },
  {
   "cell_type": "code",
   "execution_count": 19,
   "metadata": {},
   "outputs": [
    {
     "name": "stdout",
     "output_type": "stream",
     "text": [
      "['honda', 'yamaha', 'hero']\n"
     ]
    }
   ],
   "source": [
    "motorcycles = []\n",
    "motorcycles.append('honda')\n",
    "motorcycles.append('yamaha')\n",
    "motorcycles.append('hero')\n",
    "print(motorcycles)"
   ]
  },
  {
   "cell_type": "markdown",
   "metadata": {},
   "source": [
    "2) .insert(index,new element) lets you insert an element at any position in the list "
   ]
  },
  {
   "cell_type": "code",
   "execution_count": 21,
   "metadata": {},
   "outputs": [
    {
     "name": "stdout",
     "output_type": "stream",
     "text": [
      "['honda', 'yamaha', 'hero']\n",
      "['ducati', 'honda', 'yamaha', 'hero']\n"
     ]
    }
   ],
   "source": [
    "motorcycles = ['honda','yamaha','hero']\n",
    "\n",
    "print(motorcycles)\n",
    "\n",
    "motorcycles.insert(0,'ducati')\n",
    "\n",
    "print(motorcycles)"
   ]
  },
  {
   "cell_type": "markdown",
   "metadata": {},
   "source": [
    "3) del listname[index] to remove element by position"
   ]
  },
  {
   "cell_type": "code",
   "execution_count": 23,
   "metadata": {},
   "outputs": [
    {
     "name": "stdout",
     "output_type": "stream",
     "text": [
      "['honda', 'yamaha', 'hero']\n",
      "['yamaha', 'hero']\n"
     ]
    }
   ],
   "source": [
    "motorcycles = ['honda','yamaha','hero']\n",
    "\n",
    "print(motorcycles)\n",
    "\n",
    "del motorcycles[0] \n",
    "\n",
    "print(motorcycles)"
   ]
  },
  {
   "cell_type": "markdown",
   "metadata": {},
   "source": [
    "4) The default .pop() method removes the last element and allows you to use that element of a list.\n",
    ".pop(index) also lets you remove the elmenet at that specific index  "
   ]
  },
  {
   "cell_type": "code",
   "execution_count": 29,
   "metadata": {},
   "outputs": [
    {
     "name": "stdout",
     "output_type": "stream",
     "text": [
      "['honda', 'yamaha', 'hero', 'suzuki']\n",
      "['honda', 'yamaha', 'hero']\n",
      "['suzuki']\n"
     ]
    }
   ],
   "source": [
    "motorcycles = ['honda','yamaha','hero','suzuki']\n",
    "print(motorcycles)\n",
    "\n",
    "\n",
    "popped_motorcycle = motorcycles.pop()\n",
    "\n",
    "print(motorcycles)\n",
    "\n",
    "print(popped_motorcycle)"
   ]
  },
  {
   "cell_type": "markdown",
   "metadata": {},
   "source": [
    "Can also do this"
   ]
  },
  {
   "cell_type": "code",
   "execution_count": 41,
   "metadata": {},
   "outputs": [
    {
     "name": "stdout",
     "output_type": "stream",
     "text": [
      "['honda', 'yamaha', 'hero', 'suzuki']\n",
      "['honda', 'yamaha', 'suzuki']\n",
      "['hero']\n"
     ]
    }
   ],
   "source": [
    "motorcycles = ['honda','yamaha','hero','suzuki']\n",
    "print(motorcycles)\n",
    "\n",
    "popped_motorcycle = []\n",
    "\n",
    "popped_motorcycle.append(motorcycles.pop(2))\n",
    "\n",
    "print(motorcycles)\n",
    "\n",
    "print(popped_motorcycle)"
   ]
  },
  {
   "cell_type": "code",
   "execution_count": 45,
   "metadata": {},
   "outputs": [
    {
     "name": "stdout",
     "output_type": "stream",
     "text": [
      "['honda', 'yamaha', 'hero', 'suzuki']\n",
      "['yamaha', 'hero']\n",
      "I first owned Honda.\n",
      "I last owned Suzuki.\n"
     ]
    }
   ],
   "source": [
    "motorcycles = ['honda','yamaha','hero','suzuki']\n",
    "print(motorcycles)\n",
    "\n",
    "first_owned = (motorcycles.pop(0))\n",
    "last_owned = (motorcycles.pop())\n",
    "\n",
    "print(motorcycles)\n",
    "\n",
    "print(f'I first owned {first_owned.title()}.')\n",
    "print(f'I last owned {last_owned.title()}.')"
   ]
  },
  {
   "cell_type": "markdown",
   "metadata": {},
   "source": [
    "Remove Method. When the exact position of the element is unknown, we can simply write the name of the ellemnt from the list in .remove() method"
   ]
  },
  {
   "cell_type": "code",
   "execution_count": 1,
   "metadata": {},
   "outputs": [
    {
     "name": "stdout",
     "output_type": "stream",
     "text": [
      "['honda', 'yamaha', 'suzuki', 'ducati']\n",
      "['honda', 'yamaha', 'suzuki']\n"
     ]
    }
   ],
   "source": [
    "motorcycles = ['honda','yamaha','suzuki','ducati']\n",
    "print(motorcycles)\n",
    "\n",
    "motorcycles.remove('ducati')\n",
    "\n",
    "print(motorcycles)"
   ]
  },
  {
   "cell_type": "code",
   "execution_count": 6,
   "metadata": {},
   "outputs": [
    {
     "name": "stdout",
     "output_type": "stream",
     "text": [
      "['honda', 'yamaha', 'suzuki', 'ducati']\n",
      "Why did you not buy Ducati? \n",
      "Bruh I cannot afford DUCATI.\n"
     ]
    }
   ],
   "source": [
    "motorcycles = ['honda','yamaha','suzuki','ducati']\n",
    "print(motorcycles)\n",
    "\n",
    "too_expensive = \"ducati\"\n",
    "motorcycles.remove(too_expensive)\n",
    "\n",
    "print(f\"Why did you not buy {too_expensive.title()}? \\nBruh I cannot afford {too_expensive.upper()}.\")"
   ]
  },
  {
   "cell_type": "markdown",
   "metadata": {},
   "source": [
    "Remove will only remove the first instance of the  element in question  "
   ]
  },
  {
   "cell_type": "code",
   "execution_count": 8,
   "metadata": {},
   "outputs": [
    {
     "name": "stdout",
     "output_type": "stream",
     "text": [
      "['honda', 'yamaha', 'suzuki', 'ducati', 'ducati']\n",
      "['honda', 'yamaha', 'suzuki', 'ducati']\n"
     ]
    }
   ],
   "source": [
    "motorcycles = ['honda','yamaha','suzuki','ducati','ducati']\n",
    "print(motorcycles)\n",
    "\n",
    "too_expensive = \"ducati\"\n",
    "motorcycles.remove(too_expensive)\n",
    "print(motorcycles)"
   ]
  },
  {
   "cell_type": "markdown",
   "metadata": {},
   "source": [
    "Question1: Store the Name of a few of your friends in a list called friends. Print each person's name by assesing each element in the list one at a time.\n",
    "Question2:Starting with list you used (names), instead of just printing each person's name, print a message to them. The text of each message should be same but each message should be personalised with the person name.\n",
    "Question3: Think of your favorite mode of transportation and, put diffrents kinds. Uses a list to print a series of statments about the list.\n"
   ]
  },
  {
   "cell_type": "code",
   "execution_count": 24,
   "metadata": {},
   "outputs": [
    {
     "name": "stdout",
     "output_type": "stream",
     "text": [
      "Anumoy\n",
      "Nikhil\n",
      "Nariel\n",
      "Rohit\n",
      "\n",
      " \n",
      " \n",
      "\n",
      "Anumoy\n",
      "Nikhil\n",
      "Nariel\n",
      "Rohit\n",
      "Bruh moment guareented by Anumoy\n",
      "Bruh moment guareented by Nikhil\n",
      "Bruh moment guareented by Nariel\n",
      "Bruh moment guareented by Rohit\n",
      "\n",
      " \n",
      " \n",
      "\n",
      "Bruh moment guareented by {friend}\n",
      "Bruh moment guareented by {friend}\n",
      "Bruh moment guareented by {friend}\n",
      "Bruh moment guareented by {friend}\n",
      "\n",
      " \n",
      " \n",
      "\n",
      "\n",
      " \n",
      " \n",
      "\n",
      "Anumoy will come in Tata \n",
      "mahinadra is good\n",
      "voxwagon is okay\n",
      "skoda is not bad\n"
     ]
    }
   ],
   "source": [
    "friends = [\"Anumoy\",\"Nikhil\",\"Nariel\",\"Rohit\"]\n",
    "#Question1: Store the Name of a few of your friends in a list called friends. Print each person's name by assesing each element in the list one at a time.\n",
    "print(friends[0])\n",
    "print(friends[1])\n",
    "print(friends[2])\n",
    "print(friends[3])\n",
    "\n",
    "print('\\n \\n \\n')\n",
    "for friend in friends:\n",
    "    print(friend)\n",
    "\n",
    "#Question2:Starting with list you used (names), instead of just printing each person's name, print a message to them. The text of each message should be same but each message should be personalised with the person name.\n",
    "print(f\"Bruh moment guareented by {friends[0]}\")\n",
    "print(f\"Bruh moment guareented by {friends[1]}\")\n",
    "print(f\"Bruh moment guareented by {friends[2]}\")\n",
    "print(f\"Bruh moment guareented by {friends[3]}\")    \n",
    "print('\\n \\n \\n')\n",
    "for friend in friends:\n",
    "    print(f\"Bruh moment guareented by {friend}\")\n",
    "\n",
    "print('\\n \\n \\n')\n",
    "#Question3: Think of your favorite mode of transportation and, put diffrents kinds. Uses a list to print a series of statments about the list.\n",
    "Cars = [\"tata\", \"mahinadra\", \"voxwagon\",\"skoda\"]\n",
    "print('\\n \\n \\n')\n",
    "print(f\"{friends[0]} will come in {Cars[0].title()} \")\n",
    "\n",
    "print(f\"{friends[1]} will come in {Cars[1].title()} \")\n",
    "\n",
    "print(f\"{friends[2]} will come in {Cars[2].title()} \")\n",
    "\n",
    "print(f\"{friends[3]} will come in {Cars[3].title()} \")"
   ]
  },
  {
   "cell_type": "code",
   "execution_count": 25,
   "metadata": {},
   "outputs": [
    {
     "name": "stdout",
     "output_type": "stream",
     "text": [
      "Anumoy\n",
      "Nikhil\n",
      "Nariel\n",
      "Rohit\n",
      "\n",
      " \n",
      " \n",
      "\n",
      "Bruh moment guareented by Anumoy\n",
      "Bruh moment guareented by Nikhil\n",
      "Bruh moment guareented by Nariel\n",
      "Bruh moment guareented by Rohit\n",
      "\n",
      " \n",
      " \n",
      "\n",
      "\n",
      " \n",
      " \n",
      "\n",
      "Anumoy will come in Tata \n",
      "Nikhil will come in Mahinadra \n",
      "Nariel will come in Voxwagon \n",
      "Rohit will come in Skoda \n"
     ]
    }
   ],
   "source": [
    "#Question1: Store the Name of a few of your friends in a list called friends. Print each person's name by assesing each element in the list one at a time.\n",
    "friends = [\"Anumoy\",\"Nikhil\",\"Nariel\",\"Rohit\"]\n",
    "\n",
    "print(friends[0])\n",
    "print(friends[1])\n",
    "print(friends[2])\n",
    "print(friends[3])\n",
    "\n",
    "print('\\n \\n \\n')\n",
    "#Question2:Starting with list you used (names), instead of just printing each person's name, print a message to them. The text of each message should be same but each message should be personalised with the person name.\n",
    "print(f\"Bruh moment guareented by {friends[0]}\")\n",
    "print(f\"Bruh moment guareented by {friends[1]}\")\n",
    "print(f\"Bruh moment guareented by {friends[2]}\")\n",
    "print(f\"Bruh moment guareented by {friends[3]}\")    \n",
    "print('\\n \\n \\n')\n",
    "\n",
    "\n",
    "\n",
    "#Question3: Think of your favorite mode of transportation and, put diffrents kinds. Uses a list to print a series of statments about the list.\n",
    "Cars = [\"tata\", \"mahinadra\", \"voxwagon\",\"skoda\"]\n",
    "print('\\n \\n \\n')\n",
    "print(f\"{friends[0]} will come in {Cars[0].title()} \")\n",
    "\n",
    "print(f\"{friends[1]} will come in {Cars[1].title()} \")\n",
    "\n",
    "print(f\"{friends[2]} will come in {Cars[2].title()} \")\n",
    "\n",
    "print(f\"{friends[3]} will come in {Cars[3].title()} \")"
   ]
  },
  {
   "cell_type": "markdown",
   "metadata": {},
   "source": [
    "Organising A list. \n",
    "Sorting a list with .sort() will sort is in alphabetical order. Puting argument .sort(reserve = True) will print it in reverse alphabetical order.\n",
    "\n",
    ".sort IS PERMANENT. BECAREFUL OF USING IT"
   ]
  },
  {
   "cell_type": "code",
   "execution_count": 29,
   "metadata": {},
   "outputs": [
    {
     "name": "stdout",
     "output_type": "stream",
     "text": [
      "['audi', 'mahinadra', 'skoda', 'tata']\n"
     ]
    }
   ],
   "source": [
    "cars = ['mahinadra','tata','skoda','audi']\n",
    "\n",
    "cars.sort()\n",
    "print(cars)\n",
    "\n",
    "cars.sort(reverse=True)\n"
   ]
  },
  {
   "cell_type": "markdown",
   "metadata": {},
   "source": [
    "Sorted function will temporarily print sort a list.\n",
    "However, sort function will not account for upper and lower case."
   ]
  },
  {
   "cell_type": "code",
   "execution_count": 40,
   "metadata": {},
   "outputs": [
    {
     "name": "stdout",
     "output_type": "stream",
     "text": [
      "Original list of cars['mahinadra', 'tata', 'skoda', 'audi']\n",
      "\n",
      "Sorted cars list['audi', 'mahinadra', 'skoda', 'tata']\n",
      "\n",
      "Original list remains same['mahinadra', 'tata', 'skoda', 'audi']\n",
      "\n",
      "Sorted cars list['tata', 'skoda', 'mahinadra', 'audi']\n"
     ]
    },
    {
     "data": {
      "text/plain": [
       "1"
      ]
     },
     "execution_count": 40,
     "metadata": {},
     "output_type": "execute_result"
    }
   ],
   "source": [
    "cars = ['mahinadra','tata','skoda','audi']\n",
    "\n",
    "print(f\"Original list of cars{cars}\")\n",
    "\n",
    "print(f\"\\nSorted cars list{sorted(cars)}\")\n",
    "\n",
    "print(f\"\\nOriginal list remains same{cars}\")\n",
    "\n",
    "print(f\"\\nSorted cars list{sorted(cars,reverse=True)}\")\n"
   ]
  },
  {
   "cell_type": "markdown",
   "metadata": {},
   "source": [
    "Reverse\n",
    ".reverse() will revesre the order of the list. THIS IS PERMANENT, but you can reverse it be running .reverse() twice"
   ]
  },
  {
   "cell_type": "code",
   "execution_count": 43,
   "metadata": {},
   "outputs": [
    {
     "name": "stdout",
     "output_type": "stream",
     "text": [
      "Car in chronological order['mahinadra', 'tata', 'skoda', 'audi']\n",
      "Cars reverse in chonological order['audi', 'skoda', 'tata', 'mahinadra']\n"
     ]
    }
   ],
   "source": [
    "cars = ['mahinadra','tata','skoda','audi']\n",
    "print(f\"Car in chronological order{cars}\")\n",
    "cars.reverse()\n",
    "print(f\"Cars reverse in chonological order{cars}\")\n"
   ]
  },
  {
   "cell_type": "markdown",
   "metadata": {},
   "source": [
    "Organising a list.\n",
    "\n",
    "Finding the length of the list len() func \n",
    "\n",
    "Python starts counting from 1. Keep this in mind while iterating loops. "
   ]
  },
  {
   "cell_type": "code",
   "execution_count": 46,
   "metadata": {},
   "outputs": [
    {
     "name": "stdout",
     "output_type": "stream",
     "text": [
      "4\n",
      "This is the last element of cars Audi\n",
      "\n"
     ]
    }
   ],
   "source": [
    "cars = ['mahinadra','tata','skoda','audi']\n",
    "print(len(cars))\n",
    "\n",
    "print(f\"This is the last element of cars {cars[len(cars)-1].title()}\")\n",
    "\n",
    "print()"
   ]
  },
  {
   "cell_type": "markdown",
   "metadata": {},
   "source": [
    "Question1:If you could invite anyone living or deceased to dinner, who would ypu invite? Make a list that would include atleast 3 people you would invite to dinner. Then use your list to print a message to each person inviting them to dinner.\n",
    "\n",
    "Question2:You hear that one of your guests cannot make it to dinner. Statr your program from previous question. Add a print statment to the end of your program stating the name of the guet who cannot make it. Modify your list replacing the name of the guest who cannot make it with the name of the newly invited person. Then print a second set of invitation message, one for each person who is still in your list.\n",
    "\n",
    "Question3: Now start your program from previous question. Add a print statement to the end of your program informing people that you foumd a bigger dinning table. Use insert to add one new guest to the begining of your list.Use insert to add a new guest to to the middel of your list.Use append to add one new h=guest to the end of you list. Print a new set of invitation messages for everyone on the list.\n",
    "\n",
    "Question4:"
   ]
  },
  {
   "cell_type": "code",
   "execution_count": 48,
   "metadata": {},
   "outputs": [
    {
     "name": "stdout",
     "output_type": "stream",
     "text": [
      "\n",
      "Dear Malthus,\n",
      " You are codially invited to dinner and disscusion on economics, philosophy \n",
      "and a practical case study for canabalising the Capitalist class\n",
      "\n",
      "Dear Karl,\n",
      " You are codially invited to dinner and disscusion on economics, philosophy \n",
      "and a practical case study for canabalising the Capitalist class\n",
      "\n",
      "Dear Lewis,\n",
      " You are codially invited to dinner and disscusion on economics, philosophy \n",
      "and a practical case study for canabalising the Capitalist class\n",
      "\n",
      "Dear Keynes,\n",
      " You are codially invited to dinner and disscusion on economics, philosophy \n",
      "and a practical case study for canabalising the Capitalist class\n"
     ]
    }
   ],
   "source": [
    "#Q1 Invitation\n",
    "guests = ['Malthus','Karl','Lewis','Keynes']\n",
    "\n",
    "print(f\"\\nDear {guests[0]},\\n You are codially invited to dinner and disscusion on economics, philosophy \\nand a practical case study for canabalising the Capitalist class\")\n",
    "print(f\"\\nDear {guests[1]},\\n You are codially invited to dinner and disscusion on economics, philosophy \\nand a practical case study for canabalising the Capitalist class\")\n",
    "print(f\"\\nDear {guests[2]},\\n You are codially invited to dinner and disscusion on economics, philosophy \\nand a practical case study for canabalising the Capitalist class\")\n",
    "print(f\"\\nDear {guests[3]},\\n You are codially invited to dinner and disscusion on economics, philosophy \\nand a practical case study for canabalising the Capitalist class\")\n"
   ]
  },
  {
   "cell_type": "code",
   "execution_count": 51,
   "metadata": {},
   "outputs": [
    {
     "name": "stdout",
     "output_type": "stream",
     "text": [
      "Lewis\n",
      "\n",
      "Dear Malthus,\n",
      " You are codially invited to dinner and disscusion on economics, philosophy \n",
      "and a practical case study for canabalising the Capitalist class\n",
      "\n",
      "Dear Karl,\n",
      " You are codially invited to dinner and disscusion on economics, philosophy \n",
      "and a practical case study for canabalising the Capitalist class\n",
      "\n",
      "Dear Adam,\n",
      " You are codially invited to dinner and disscusion on economics, philosophy \n",
      "and a practical case study for canabalising the Capitalist class\n",
      "\n",
      "Dear Keynes,\n",
      " You are codially invited to dinner and disscusion on economics, philosophy \n",
      "and a practical case study for canabalising the Capitalist class\n"
     ]
    }
   ],
   "source": [
    "#q2 change of guest\n",
    "guests = ['Malthus','Karl','Lewis','Keynes']\n",
    "\n",
    "print(guests[2])\n",
    "\n",
    "guests[2] = 'Adam'\n",
    "\n",
    "\n",
    "\n",
    "print(f\"\\nDear {guests[0]},\\n You are codially invited to dinner and disscusion on economics, philosophy \\nand a practical case study for canabalising the Capitalist class\")\n",
    "print(f\"\\nDear {guests[1]},\\n You are codially invited to dinner and disscusion on economics, philosophy \\nand a practical case study for canabalising the Capitalist class\")\n",
    "print(f\"\\nDear {guests[2]},\\n You are codially invited to dinner and disscusion on economics, philosophy \\nand a practical case study for canabalising the Capitalist class\")\n",
    "print(f\"\\nDear {guests[3]},\\n You are codially invited to dinner and disscusion on economics, philosophy \\nand a practical case study for canabalising the Capitalist class\")\n",
    "\n"
   ]
  }
 ],
 "metadata": {
  "kernelspec": {
   "display_name": "Python 3",
   "language": "python",
   "name": "python3"
  },
  "language_info": {
   "codemirror_mode": {
    "name": "ipython",
    "version": 3
   },
   "file_extension": ".py",
   "mimetype": "text/x-python",
   "name": "python",
   "nbconvert_exporter": "python",
   "pygments_lexer": "ipython3",
   "version": "3.11.3"
  }
 },
 "nbformat": 4,
 "nbformat_minor": 2
}
