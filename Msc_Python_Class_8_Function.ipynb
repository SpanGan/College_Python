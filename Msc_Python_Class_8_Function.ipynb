{
 "cells": [
  {
   "cell_type": "markdown",
   "metadata": {},
   "source": [
    "use Def to define function   "
   ]
  },
  {
   "cell_type": "code",
   "execution_count": 8,
   "metadata": {},
   "outputs": [
    {
     "name": "stdout",
     "output_type": "stream",
     "text": [
      "Hello!\n"
     ]
    },
    {
     "data": {
      "text/plain": [
       "'Print'"
      ]
     },
     "execution_count": 8,
     "metadata": {},
     "output_type": "execute_result"
    }
   ],
   "source": [
    "def greet_user():\n",
    "    print(f'Hello!')\n",
    "greet_user()\n"
   ]
  },
  {
   "cell_type": "code",
   "execution_count": 10,
   "metadata": {},
   "outputs": [
    {
     "name": "stdout",
     "output_type": "stream",
     "text": [
      "Hello Spandan\n"
     ]
    }
   ],
   "source": [
    "def greet_user(user):\n",
    "    print(f'Hello {user.lower().title()}')\n",
    "greet_user('Spandan')"
   ]
  },
  {
   "cell_type": "markdown",
   "metadata": {},
   "source": [
    "Types of arg \n",
    "\n",
    "1) Positional Argument\n",
    "The position of the args enterd in the function is important."
   ]
  },
  {
   "cell_type": "code",
   "execution_count": 13,
   "metadata": {},
   "outputs": [
    {
     "name": "stdout",
     "output_type": "stream",
     "text": [
      "\n",
      " I have a Tiger\n",
      "\n",
      " It's name is Charlie\n"
     ]
    }
   ],
   "source": [
    "def describe_pet(animal_type,pet_name):\n",
    "    #Display info of pet\n",
    "    print(f'\\n I have a {animal_type.lower().title()}')\n",
    "    print(f'\\n It\\'s name is {pet_name.lower().title()}')\n",
    "\n",
    "\n",
    "describe_pet('tiger','charlie')\n",
    "    "
   ]
  },
  {
   "cell_type": "code",
   "execution_count": 14,
   "metadata": {},
   "outputs": [
    {
     "name": "stdout",
     "output_type": "stream",
     "text": [
      "\n",
      " I have a Pitbull\n",
      "\n",
      " It's name is Cupcake\n"
     ]
    }
   ],
   "source": [
    "describe_pet('pitbull','Cupcake')"
   ]
  },
  {
   "cell_type": "code",
   "execution_count": 16,
   "metadata": {},
   "outputs": [
    {
     "name": "stdout",
     "output_type": "stream",
     "text": [
      "\n",
      " I have a Chicken\n",
      "\n",
      " It's name is Nuggets\n"
     ]
    }
   ],
   "source": [
    "describe_pet('chicken','nuggets')"
   ]
  },
  {
   "cell_type": "markdown",
   "metadata": {},
   "source": [
    "Key word argument:\n",
    "no need to worry about position. Just specify which argument you are passing in."
   ]
  },
  {
   "cell_type": "code",
   "execution_count": 20,
   "metadata": {},
   "outputs": [
    {
     "name": "stdout",
     "output_type": "stream",
     "text": [
      "\n",
      " I have a Hamster\n",
      "\n",
      " It's name is Death,Destroyer Of Worlds\n"
     ]
    }
   ],
   "source": [
    "def describe_pet(animal_type,pet_name):\n",
    "    #Display info of pet\n",
    "    print(f'\\n I have a {animal_type.lower().title()}')\n",
    "    print(f'\\n It\\'s name is {pet_name.lower().title()}')\n",
    "\n",
    "describe_pet(animal_type='hamster',pet_name='Death,Destroyer of Worlds')"
   ]
  },
  {
   "cell_type": "markdown",
   "metadata": {},
   "source": [
    "Define default value"
   ]
  },
  {
   "cell_type": "code",
   "execution_count": 22,
   "metadata": {},
   "outputs": [
    {
     "name": "stdout",
     "output_type": "stream",
     "text": [
      "\n",
      " I have a Herald Of The End\n",
      "\n",
      " It's name is Harry\n"
     ]
    }
   ],
   "source": [
    "def describe_pet(pet_name,animal_type='Herald of the End'):\n",
    "    #Display info of pet\n",
    "    print(f'\\n I have a {animal_type.lower().title()}')\n",
    "    print(f'\\n It\\'s name is {pet_name.lower().title()}')\n",
    "\n",
    "describe_pet(pet_name='harry')"
   ]
  },
  {
   "cell_type": "code",
   "execution_count": 26,
   "metadata": {},
   "outputs": [
    {
     "name": "stdout",
     "output_type": "stream",
     "text": [
      "\n",
      " I have a Herald Of The Dawn\n",
      "\n",
      " It's name is Wille\n",
      "\n",
      " I have a Herald Of The Dawn\n",
      "\n",
      " It's name is Wille\n"
     ]
    },
    {
     "ename": "TypeError",
     "evalue": "describe_pet() missing 1 required positional argument: 'pet_name'",
     "output_type": "error",
     "traceback": [
      "\u001b[1;31m---------------------------------------------------------------------------\u001b[0m",
      "\u001b[1;31mTypeError\u001b[0m                                 Traceback (most recent call last)",
      "Cell \u001b[1;32mIn[26], line 8\u001b[0m\n\u001b[0;32m      6\u001b[0m describe_pet(pet_name\u001b[38;5;241m=\u001b[39m\u001b[38;5;124m'\u001b[39m\u001b[38;5;124mwille\u001b[39m\u001b[38;5;124m'\u001b[39m)\n\u001b[0;32m      7\u001b[0m describe_pet(\u001b[38;5;124m'\u001b[39m\u001b[38;5;124mwille\u001b[39m\u001b[38;5;124m'\u001b[39m)\n\u001b[1;32m----> 8\u001b[0m \u001b[43mdescribe_pet\u001b[49m\u001b[43m(\u001b[49m\u001b[43m)\u001b[49m\n",
      "\u001b[1;31mTypeError\u001b[0m: describe_pet() missing 1 required positional argument: 'pet_name'"
     ]
    }
   ],
   "source": [
    "def describe_pet(pet_name,animal_type='Herald of the Dawn'):\n",
    "    #Display info of pet\n",
    "    print(f'\\n I have a {animal_type.lower().title()}')\n",
    "    print(f'\\n It\\'s name is {pet_name.lower().title()}')\n",
    "\n",
    "describe_pet(pet_name='wille')\n",
    "describe_pet('wille')\n",
    "describe_pet()"
   ]
  },
  {
   "cell_type": "markdown",
   "metadata": {},
   "source": [
    "Return simple value"
   ]
  },
  {
   "cell_type": "code",
   "execution_count": 28,
   "metadata": {},
   "outputs": [
    {
     "name": "stdout",
     "output_type": "stream",
     "text": [
      "Spandan Ganguli\n"
     ]
    }
   ],
   "source": [
    "def get_formatted_name(first_name,last_name):\n",
    "    full_name = f'{first_name} {last_name}'\n",
    "    return full_name.title()\n",
    "\n",
    "student = get_formatted_name('Spandan','ganguli') \n",
    "\n",
    "print(student)"
   ]
  },
  {
   "cell_type": "code",
   "execution_count": 35,
   "metadata": {},
   "outputs": [
    {
     "name": "stdout",
     "output_type": "stream",
     "text": [
      "Spandan Ganguli\n",
      "Sujoy Kumar Ganguli\n"
     ]
    }
   ],
   "source": [
    "def get_formatted_name(first_name,last_name,middle_name =''):\n",
    "    if middle_name == '':\n",
    "        full_name = f'{first_name} {last_name}'\n",
    "    else:\n",
    "        full_name = f'{first_name} {middle_name} {last_name}'\n",
    "    return full_name.title()\n",
    "\n",
    "student = get_formatted_name('Spandan','ganguli') \n",
    "father = get_formatted_name(first_name='sujoy',middle_name='kumar',last_name='ganguli')\n",
    "\n",
    "print(student)\n",
    "print(father)"
   ]
  },
  {
   "cell_type": "markdown",
   "metadata": {},
   "source": [
    "return Dictionary or list"
   ]
  },
  {
   "cell_type": "code",
   "execution_count": 43,
   "metadata": {},
   "outputs": [
    {
     "name": "stdout",
     "output_type": "stream",
     "text": [
      "{'first_name': 'spandan', 'last_name': 'ganguli', 'age': 89}\n"
     ]
    }
   ],
   "source": [
    "def bulid(first_name,last_name,age = None):\n",
    "    person = {'first_name':first_name,'last_name':last_name}\n",
    "\n",
    "    if age != None:\n",
    "        person['age'] = age\n",
    "    return person\n",
    "print(bulid('spandan','ganguli',age=89))"
   ]
  },
  {
   "cell_type": "markdown",
   "metadata": {},
   "source": [
    "Function within while loop"
   ]
  },
  {
   "cell_type": "code",
   "execution_count": 54,
   "metadata": {},
   "outputs": [
    {
     "name": "stdout",
     "output_type": "stream",
     "text": [
      "\n",
      "Tell me your name.\n",
      " Hello, Spandan  Ganguli\n"
     ]
    }
   ],
   "source": [
    "def get_formatted_name(first_name,last_name):\n",
    "    full_name = f\"{first_name} {last_name}\"\n",
    "    return full_name.title()\n",
    "\n",
    "\n",
    "while True:\n",
    "    print(\"\\nTell me your name.\")\n",
    "    f_name = input('first name'.strip())\n",
    "    if f_name == '':\n",
    "            break\n",
    "    l_name= input('last name'.strip())\n",
    "    if l_name == '':\n",
    "            break\n",
    "    formatted_name = get_formatted_name(first_name=f_name,last_name=l_name)\n",
    "    print(f' Hello, {formatted_name}')\n",
    "    renter =input('Renter name?y/n')\n",
    "    if renter == 'n' or renter == '':\n",
    "          break\n",
    "\n",
    "\n"
   ]
  },
  {
   "cell_type": "markdown",
   "metadata": {},
   "source": [
    "passing list\n"
   ]
  },
  {
   "cell_type": "code",
   "execution_count": 59,
   "metadata": {},
   "outputs": [
    {
     "name": "stdout",
     "output_type": "stream",
     "text": [
      "hello, Xdxdxd\n",
      "hello, Arrowman\n",
      "hello, Dog Eater49\n"
     ]
    }
   ],
   "source": [
    "def greet_users(names):\n",
    "    for name in names:\n",
    "        msg = (f'hello, {name.title()}')\n",
    "        print(msg)\n",
    "\n",
    "usernames =['xdxdxd','arrowman','dog eater49']\n",
    "\n",
    "greet_users(usernames)"
   ]
  },
  {
   "cell_type": "code",
   "execution_count": 78,
   "metadata": {},
   "outputs": [
    {
     "name": "stdout",
     "output_type": "stream",
     "text": [
      "Printing model current design:dodecahedron\n",
      "Printing model current design:robot pendant\n",
      "Printing model current design:phone case\n",
      "\n",
      "following is printed\n",
      "dodecahedron\n",
      "robot pendant\n",
      "phone case\n"
     ]
    },
    {
     "data": {
      "text/plain": [
       "False"
      ]
     },
     "execution_count": 78,
     "metadata": {},
     "output_type": "execute_result"
    }
   ],
   "source": [
    "unprinted_designs = ['phone case','robot pendant','dodecahedron']\n",
    "\n",
    "completed_models = []\n",
    "\n",
    "while unprinted_designs:\n",
    "    current_design = unprinted_designs.pop()\n",
    "    print(f'Printing model current design:{current_design}')\n",
    "    completed_models.append(current_design)\n",
    "\n",
    "print('\\nfollowing is printed')\n",
    "for model in completed_models:\n",
    "    print(model)\n",
    "   "
   ]
  },
  {
   "cell_type": "code",
   "execution_count": 85,
   "metadata": {},
   "outputs": [
    {
     "name": "stdout",
     "output_type": "stream",
     "text": [
      "Current model:dodecahedron\n",
      "Current model:robot pendant\n",
      "Current model:phone case\n",
      "\n",
      "following models are completed\n",
      "dodecahedron\n",
      "robot pendant\n",
      "phone case\n"
     ]
    }
   ],
   "source": [
    "def print_model(unprinted_designs,completed_models=[]):\n",
    "    while unprinted_designs:\n",
    "        current_design = unprinted_designs.pop()\n",
    "        print(f'Current model:{current_design}')\n",
    "        completed_models.append(current_design)\n",
    "\n",
    "def show_completed_models(completed_models):\n",
    "    print('\\nfollowing models are completed')\n",
    "    for model in completed_models:\n",
    "        print(model)\n",
    "\n",
    "\n",
    "order_unprinted =['phone case','robot pendant','dodecahedron']\n",
    "order_printed = []\n",
    "\n",
    "print_model(order_unprinted,order_printed)\n",
    "\n",
    "show_completed_models(order_printed)"
   ]
  },
  {
   "cell_type": "code",
   "execution_count": 88,
   "metadata": {},
   "outputs": [
    {
     "name": "stdout",
     "output_type": "stream",
     "text": [
      "Current model:dodecahedron\n",
      "Current model:robot pendant\n",
      "Current model:phone case\n",
      "\n",
      "following models are completed\n",
      "[]\n",
      "[]\n"
     ]
    }
   ],
   "source": [
    "def print_model(unprinted_designs,completed_models=[]):\n",
    "    while unprinted_designs:\n",
    "        current_design = unprinted_designs.pop()\n",
    "        print(f'Current model:{current_design}')\n",
    "        completed_models.append(current_design)\n",
    "\n",
    "def show_completed_models(completed_models):\n",
    "    print('\\nfollowing models are completed')\n",
    "    for model in completed_models:\n",
    "        print(model)\n",
    "\n",
    "\n",
    "order_unprinted =['phone case','robot pendant','dodecahedron']\n",
    "order_printed = []\n",
    "\n",
    "print_model(order_unprinted[:],order_printed[:])\n",
    "\n",
    "show_completed_models(order_printed)\n",
    "\n",
    "print(order_printed)\n"
   ]
  },
  {
   "cell_type": "markdown",
   "metadata": {},
   "source": [
    "Passing arbitrary number of Arguements"
   ]
  },
  {
   "cell_type": "code",
   "execution_count": 96,
   "metadata": {},
   "outputs": [
    {
     "name": "stdout",
     "output_type": "stream",
     "text": [
      "('mushroom', 'cheese', 'chips', 'peas', 'mayo')\n",
      "mushroom\n",
      "cheese\n",
      "chips\n",
      "peas\n",
      "mayo\n"
     ]
    }
   ],
   "source": [
    "def make_pizza(*toppings):\n",
    "    print(toppings)\n",
    "    [print(topping) for topping in toppings]\n",
    "\n",
    "make_pizza('mushroom','cheese','chips','peas','mayo')"
   ]
  },
  {
   "cell_type": "markdown",
   "metadata": {},
   "source": [
    "Aritray and default myust be the last argument entered. Default is last.\n",
    "\n",
    "def func(non-default arg,arbitrary,default)"
   ]
  },
  {
   "cell_type": "code",
   "execution_count": 102,
   "metadata": {},
   "outputs": [
    {
     "name": "stdout",
     "output_type": "stream",
     "text": [
      "Pizza of 6 inches with the following toppings\n",
      "mushroom\n",
      "cheese\n",
      "chips\n",
      "peas\n",
      "mayo\n",
      "Pizza of 10 inches with the following toppings\n",
      "mushroom\n",
      "cheese\n",
      "chips\n",
      "peas\n",
      "mayo\n"
     ]
    }
   ],
   "source": [
    "def make_pizza(*toppings,size=6):\n",
    "    print(f'Pizza of {size} inches with the following toppings')\n",
    "    [print(topping) for topping in toppings]\n",
    "\n",
    "make_pizza('mushroom','cheese','chips','peas','mayo')\n",
    "make_pizza('mushroom','cheese','chips','peas','mayo',size=10)"
   ]
  },
  {
   "cell_type": "code",
   "execution_count": 111,
   "metadata": {},
   "outputs": [
    {
     "name": "stdout",
     "output_type": "stream",
     "text": [
      "{'location': 'earth', 'first_name': 'albert', 'last_name': 'einstein'}\n"
     ]
    }
   ],
   "source": [
    "def bulid_profile(first,last,**userinfo):\n",
    "    userinfo['first_name'] = first\n",
    "    userinfo['last_name'] = last\n",
    "    return userinfo\n",
    "\n",
    "profile = bulid_profile('albert','einstein',location='earth')\n",
    "    \n",
    "print(profile)"
   ]
  },
  {
   "cell_type": "markdown",
   "metadata": {},
   "source": []
  },
  {
   "cell_type": "markdown",
   "metadata": {},
   "source": []
  },
  {
   "cell_type": "code",
   "execution_count": null,
   "metadata": {},
   "outputs": [],
   "source": []
  },
  {
   "cell_type": "markdown",
   "metadata": {},
   "source": []
  }
 ],
 "metadata": {
  "kernelspec": {
   "display_name": "Python 3",
   "language": "python",
   "name": "python3"
  },
  "language_info": {
   "codemirror_mode": {
    "name": "ipython",
    "version": 3
   },
   "file_extension": ".py",
   "mimetype": "text/x-python",
   "name": "python",
   "nbconvert_exporter": "python",
   "pygments_lexer": "ipython3",
   "version": "3.11.3"
  }
 },
 "nbformat": 4,
 "nbformat_minor": 2
}
